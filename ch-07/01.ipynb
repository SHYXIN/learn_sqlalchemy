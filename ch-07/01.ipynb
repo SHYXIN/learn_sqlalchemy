{
 "cells": [
  {
   "cell_type": "code",
   "execution_count": 236,
   "metadata": {},
   "outputs": [],
   "source": [
    "from sqlalchemy import create_engine\n",
    "from sqlalchemy.orm import sessionmaker\n",
    "\n",
    "engine = create_engine('sqlite:///:memory:',\n",
    "                       echo=True\n",
    "                       )\n",
    "Session = sessionmaker(bind=engine)\n",
    "session = Session()"
   ]
  },
  {
   "cell_type": "code",
   "execution_count": 237,
   "metadata": {},
   "outputs": [
    {
     "name": "stdout",
     "output_type": "stream",
     "text": [
      "2024-01-03 09:50:14,982 INFO sqlalchemy.engine.Engine BEGIN (implicit)\n",
      "2024-01-03 09:50:14,983 INFO sqlalchemy.engine.Engine PRAGMA main.table_info(\"cookies\")\n",
      "2024-01-03 09:50:14,984 INFO sqlalchemy.engine.Engine [raw sql] ()\n",
      "2024-01-03 09:50:14,986 INFO sqlalchemy.engine.Engine PRAGMA temp.table_info(\"cookies\")\n",
      "2024-01-03 09:50:14,987 INFO sqlalchemy.engine.Engine [raw sql] ()\n",
      "2024-01-03 09:50:14,989 INFO sqlalchemy.engine.Engine PRAGMA main.table_info(\"users\")\n",
      "2024-01-03 09:50:14,990 INFO sqlalchemy.engine.Engine [raw sql] ()\n",
      "2024-01-03 09:50:14,992 INFO sqlalchemy.engine.Engine PRAGMA temp.table_info(\"users\")\n",
      "2024-01-03 09:50:14,993 INFO sqlalchemy.engine.Engine [raw sql] ()\n",
      "2024-01-03 09:50:14,995 INFO sqlalchemy.engine.Engine PRAGMA main.table_info(\"orders\")\n",
      "2024-01-03 09:50:14,996 INFO sqlalchemy.engine.Engine [raw sql] ()\n",
      "2024-01-03 09:50:14,997 INFO sqlalchemy.engine.Engine PRAGMA temp.table_info(\"orders\")\n",
      "2024-01-03 09:50:15,009 INFO sqlalchemy.engine.Engine [raw sql] ()\n",
      "2024-01-03 09:50:15,012 INFO sqlalchemy.engine.Engine PRAGMA main.table_info(\"line_items\")\n",
      "2024-01-03 09:50:15,013 INFO sqlalchemy.engine.Engine [raw sql] ()\n",
      "2024-01-03 09:50:15,014 INFO sqlalchemy.engine.Engine PRAGMA temp.table_info(\"line_items\")\n",
      "2024-01-03 09:50:15,015 INFO sqlalchemy.engine.Engine [raw sql] ()\n",
      "2024-01-03 09:50:15,017 INFO sqlalchemy.engine.Engine \n",
      "CREATE TABLE cookies (\n",
      "\tcookie_id INTEGER NOT NULL, \n",
      "\tcookie_name VARCHAR(50), \n",
      "\tcookie_recipe_url VARCHAR(255), \n",
      "\tcookie_sku VARCHAR(55), \n",
      "\tquantity INTEGER, \n",
      "\tunit_cost NUMERIC(12, 2), \n",
      "\tPRIMARY KEY (cookie_id)\n",
      ")\n",
      "\n",
      "\n",
      "2024-01-03 09:50:15,018 INFO sqlalchemy.engine.Engine [no key 0.00089s] ()\n",
      "2024-01-03 09:50:15,020 INFO sqlalchemy.engine.Engine CREATE INDEX ix_cookies_cookie_name ON cookies (cookie_name)\n",
      "2024-01-03 09:50:15,021 INFO sqlalchemy.engine.Engine [no key 0.00140s] ()\n",
      "2024-01-03 09:50:15,023 INFO sqlalchemy.engine.Engine \n",
      "CREATE TABLE users (\n",
      "\tuser_id INTEGER NOT NULL, \n",
      "\tusername VARCHAR(15) NOT NULL, \n",
      "\temail_address VARCHAR(255) NOT NULL, \n",
      "\tphone VARCHAR(20) NOT NULL, \n",
      "\tpassword VARCHAR(25) NOT NULL, \n",
      "\tcreated_on DATETIME, \n",
      "\tupdated_on DATETIME, \n",
      "\tPRIMARY KEY (user_id), \n",
      "\tUNIQUE (username)\n",
      ")\n",
      "\n",
      "\n",
      "2024-01-03 09:50:15,024 INFO sqlalchemy.engine.Engine [no key 0.00117s] ()\n",
      "2024-01-03 09:50:15,026 INFO sqlalchemy.engine.Engine \n",
      "CREATE TABLE orders (\n",
      "\torder_id INTEGER NOT NULL, \n",
      "\tuser_id INTEGER, \n",
      "\tshipped BOOLEAN, \n",
      "\tPRIMARY KEY (order_id), \n",
      "\tFOREIGN KEY(user_id) REFERENCES users (user_id)\n",
      ")\n",
      "\n",
      "\n",
      "2024-01-03 09:50:15,027 INFO sqlalchemy.engine.Engine [no key 0.00099s] ()\n",
      "2024-01-03 09:50:15,029 INFO sqlalchemy.engine.Engine \n",
      "CREATE TABLE line_items (\n",
      "\tline_item_id INTEGER NOT NULL, \n",
      "\torder_id INTEGER, \n",
      "\tcookie_id INTEGER, \n",
      "\tquantity INTEGER, \n",
      "\textended_cost NUMERIC(12, 2), \n",
      "\tPRIMARY KEY (line_item_id), \n",
      "\tFOREIGN KEY(order_id) REFERENCES orders (order_id), \n",
      "\tFOREIGN KEY(cookie_id) REFERENCES cookies (cookie_id)\n",
      ")\n",
      "\n",
      "\n",
      "2024-01-03 09:50:15,030 INFO sqlalchemy.engine.Engine [no key 0.00083s] ()\n",
      "2024-01-03 09:50:15,031 INFO sqlalchemy.engine.Engine COMMIT\n"
     ]
    }
   ],
   "source": [
    "from datetime import datetime\n",
    "\n",
    "from sqlalchemy import (Table, Column, Integer, Numeric, String, DateTime,\n",
    "                        ForeignKey, Boolean)\n",
    "from sqlalchemy.ext.declarative import declarative_base\n",
    "from sqlalchemy.orm import relationship, backref\n",
    "\n",
    "Base = declarative_base()\n",
    "\n",
    "class Cookie(Base):\n",
    "    __tablename__ = 'cookies'\n",
    "\n",
    "    cookie_id = Column(Integer(), primary_key=True)\n",
    "    cookie_name = Column(String(50), index=True)\n",
    "    cookie_recipe_url = Column(String(255))\n",
    "    cookie_sku = Column(String(55))\n",
    "    quantity = Column(Integer())\n",
    "    unit_cost = Column(Numeric(12, 2))\n",
    "\n",
    "    def __repr__(self):\n",
    "        return \"Cookie(cookie_name='{self.cookie_name}', \" \\\n",
    "                \"cookie_recipe_url='{self.cookie_recipe_url}', \" \\\n",
    "                \"cookie_sku='{self.cookie_sku}', \" \\\n",
    "                \"quantity={self.quantity}, \" \\\n",
    "                \"unit_cost={self.unit_cost})\".format(self=self)\n",
    "\n",
    "class User(Base):\n",
    "    __tablename__ = 'users'\n",
    "\n",
    "    user_id = Column(Integer(), primary_key=True)\n",
    "    username = Column(String(15), nullable=False, unique=True)\n",
    "    email_address = Column(String(255), nullable=False)\n",
    "    phone = Column(String(20), nullable=False)\n",
    "    password = Column(String(25), nullable=False)\n",
    "    created_on = Column(DateTime(), default=datetime.now)\n",
    "    updated_on = Column(DateTime(), default=datetime.now)\n",
    "\n",
    "    def __repr__(self):\n",
    "        return \"User(username='{self.username}', \" \\\n",
    "            \"email_address='{self.email_address}', \" \\\n",
    "            \"phone='{self.phone}', \" \\\n",
    "            \"password='{self.password}')\".format(self=self)\n",
    "\n",
    "class Order(Base):\n",
    "    __tablename__ = 'orders'\n",
    "    order_id = Column(Integer(), primary_key=True)\n",
    "    user_id = Column(Integer(), ForeignKey('users.user_id'))\n",
    "    shipped = Column(Boolean(), default=False)\n",
    "    user = relationship(\"User\", backref=backref('order', order_by=order_id))\n",
    "\n",
    "    def __repr__(self):\n",
    "        return \"Order(user_id={self.user_id}), \" \\\n",
    "            \"shipped={self.shipped})\".format(self=self)\n",
    "\n",
    "class LineItem(Base):\n",
    "    __tablename__ = 'line_items'\n",
    "    line_item_id = Column(Integer(), primary_key=True)\n",
    "    order_id = Column(Integer(), ForeignKey('orders.order_id'))\n",
    "    cookie_id = Column(Integer(), ForeignKey('cookies.cookie_id'))\n",
    "    quantity = Column(Integer())\n",
    "    extended_cost = Column(Numeric(12, 2))\n",
    "    order = relationship(\"Order\", backref=backref('line_items',\n",
    "                        order_by=line_item_id))\n",
    "    cookie = relationship(\"Cookie\", uselist=False)\n",
    "\n",
    "    def __repr__(self):\n",
    "        return \"LineItems(order_id={self.order_id}, )\" \\\n",
    "            \"cookie_id={self.cookie_id}\" \\\n",
    "            \"quantity={self.quantity}, \"\\\n",
    "            \"extended_cost={self.extended_cost})\".format(self=self)\n",
    "\n",
    "Base.metadata.create_all(engine)"
   ]
  },
  {
   "cell_type": "code",
   "execution_count": 238,
   "metadata": {},
   "outputs": [
    {
     "name": "stdout",
     "output_type": "stream",
     "text": [
      "Cookie(cookie_name='chocolate chip', cookie_recipe_url='http://some.aweso.me/cookie/recipe.html', cookie_sku='CC01', quantity=12, unit_cost=0.5)\n",
      "None\n",
      "2024-01-03 09:50:15,057 INFO sqlalchemy.engine.Engine BEGIN (implicit)\n",
      "2024-01-03 09:50:15,060 INFO sqlalchemy.engine.Engine INSERT INTO cookies (cookie_name, cookie_recipe_url, cookie_sku, quantity, unit_cost) VALUES (?, ?, ?, ?, ?)\n",
      "2024-01-03 09:50:15,061 INFO sqlalchemy.engine.Engine [generated in 0.00130s] ('chocolate chip', 'http://some.aweso.me/cookie/recipe.html', 'CC01', 12, 0.5)\n",
      "2024-01-03 09:50:15,063 INFO sqlalchemy.engine.Engine COMMIT\n",
      "2024-01-03 09:50:15,064 INFO sqlalchemy.engine.Engine BEGIN (implicit)\n",
      "2024-01-03 09:50:15,067 INFO sqlalchemy.engine.Engine SELECT cookies.cookie_id AS cookies_cookie_id, cookies.cookie_name AS cookies_cookie_name, cookies.cookie_recipe_url AS cookies_cookie_recipe_url, cookies.cookie_sku AS cookies_cookie_sku, cookies.quantity AS cookies_quantity, cookies.unit_cost AS cookies_unit_cost \n",
      "FROM cookies \n",
      "WHERE cookies.cookie_id = ?\n",
      "2024-01-03 09:50:15,068 INFO sqlalchemy.engine.Engine [generated in 0.00112s] (1,)\n",
      "1\n"
     ]
    },
    {
     "name": "stderr",
     "output_type": "stream",
     "text": [
      "C:\\Users\\WX847\\AppData\\Local\\Temp\\ipykernel_74472\\2749201275.py:10: SAWarning: Dialect sqlite+pysqlite does *not* support Decimal objects natively, and SQLAlchemy must convert from floating point - rounding errors and other issues may occur. Please consider storing Decimal numbers as strings or integers on this platform for lossless storage.\n",
      "  print(cc_cookie.cookie_id)\n"
     ]
    }
   ],
   "source": [
    "cc_cookie = Cookie(cookie_name='chocolate chip',\n",
    "                   cookie_recipe_url='http://some.aweso.me/cookie/recipe.html',\n",
    "                   cookie_sku='CC01',\n",
    "                   quantity=12,\n",
    "                   unit_cost=0.50)\n",
    "print(cc_cookie)\n",
    "print(cc_cookie.cookie_id)\n",
    "session.add(cc_cookie)\n",
    "session.commit()\n",
    "print(cc_cookie.cookie_id)"
   ]
  },
  {
   "cell_type": "code",
   "execution_count": 239,
   "metadata": {},
   "outputs": [
    {
     "name": "stdout",
     "output_type": "stream",
     "text": [
      "2024-01-03 09:50:15,096 INFO sqlalchemy.engine.Engine INSERT INTO cookies (cookie_name, cookie_recipe_url, cookie_sku, quantity, unit_cost) VALUES (?, ?, ?, ?, ?)\n",
      "2024-01-03 09:50:15,097 INFO sqlalchemy.engine.Engine [cached since 0.03719s ago] ('dark chocolate chip', 'http://some.aweso.me/cookie/recipe_dark.html', 'CC02', 1, 0.75)\n",
      "2024-01-03 09:50:15,099 INFO sqlalchemy.engine.Engine INSERT INTO cookies (cookie_name, cookie_recipe_url, cookie_sku, quantity, unit_cost) VALUES (?, ?, ?, ?, ?)\n",
      "2024-01-03 09:50:15,100 INFO sqlalchemy.engine.Engine [cached since 0.0401s ago] ('molasses', 'http://some.aweso.me/cookie/recipe_molasses.html', 'MOL01', 1, 0.8)\n",
      "2\n",
      "3\n"
     ]
    }
   ],
   "source": [
    "dcc = Cookie(cookie_name='dark chocolate chip',\n",
    "             cookie_recipe_url='http://some.aweso.me/cookie/recipe_dark.html',\n",
    "             cookie_sku='CC02',\n",
    "             quantity=1,\n",
    "             unit_cost=0.75)\n",
    "mol = Cookie(cookie_name='molasses',\n",
    "             cookie_recipe_url='http://some.aweso.me/cookie/recipe_molasses.html',\n",
    "             cookie_sku='MOL01',\n",
    "             quantity=1,\n",
    "             unit_cost=0.80)\n",
    "session.add(dcc)\n",
    "session.add(mol)\n",
    "session.flush()\n",
    "print(dcc.cookie_id)\n",
    "print(mol.cookie_id)"
   ]
  },
  {
   "cell_type": "code",
   "execution_count": 240,
   "metadata": {},
   "outputs": [
    {
     "name": "stdout",
     "output_type": "stream",
     "text": [
      "2024-01-03 09:50:15,126 INFO sqlalchemy.engine.Engine INSERT INTO cookies (cookie_name, cookie_recipe_url, cookie_sku, quantity, unit_cost) VALUES (?, ?, ?, ?, ?)\n",
      "2024-01-03 09:50:15,128 INFO sqlalchemy.engine.Engine [generated in 0.00143s] (('peanut butter', 'http://some.aweso.me/cookie/peanut.html', 'PB01', 24, 0.25), ('oatmeal raisin', 'http://some.okay.me/cookie/raisin.html', 'EWW01', 100, 1.0))\n",
      "2024-01-03 09:50:15,129 INFO sqlalchemy.engine.Engine COMMIT\n",
      "None\n"
     ]
    }
   ],
   "source": [
    "c1 = Cookie(cookie_name='peanut butter',\n",
    "            cookie_recipe_url='http://some.aweso.me/cookie/peanut.html',\n",
    "            cookie_sku='PB01',\n",
    "            quantity=24,\n",
    "            unit_cost=0.25)\n",
    "c2 = Cookie(cookie_name='oatmeal raisin',\n",
    "            cookie_recipe_url='http://some.okay.me/cookie/raisin.html',\n",
    "            cookie_sku='EWW01',\n",
    "            quantity=100,\n",
    "            unit_cost=1.00)\n",
    "session.bulk_save_objects([c1, c2])\n",
    "session.commit()\n",
    "print(c1.cookie_id)\n"
   ]
  },
  {
   "cell_type": "code",
   "execution_count": 241,
   "metadata": {},
   "outputs": [
    {
     "name": "stdout",
     "output_type": "stream",
     "text": [
      "2024-01-03 09:50:15,154 INFO sqlalchemy.engine.Engine BEGIN (implicit)\n",
      "2024-01-03 09:50:15,156 INFO sqlalchemy.engine.Engine SELECT cookies.cookie_id AS cookies_cookie_id, cookies.cookie_name AS cookies_cookie_name, cookies.cookie_recipe_url AS cookies_cookie_recipe_url, cookies.cookie_sku AS cookies_cookie_sku, cookies.quantity AS cookies_quantity, cookies.unit_cost AS cookies_unit_cost \n",
      "FROM cookies\n",
      "2024-01-03 09:50:15,158 INFO sqlalchemy.engine.Engine [generated in 0.00137s] ()\n",
      "[Cookie(cookie_name='chocolate chip', cookie_recipe_url='http://some.aweso.me/cookie/recipe.html', cookie_sku='CC01', quantity=12, unit_cost=0.50), Cookie(cookie_name='dark chocolate chip', cookie_recipe_url='http://some.aweso.me/cookie/recipe_dark.html', cookie_sku='CC02', quantity=1, unit_cost=0.75), Cookie(cookie_name='molasses', cookie_recipe_url='http://some.aweso.me/cookie/recipe_molasses.html', cookie_sku='MOL01', quantity=1, unit_cost=0.80), Cookie(cookie_name='peanut butter', cookie_recipe_url='http://some.aweso.me/cookie/peanut.html', cookie_sku='PB01', quantity=24, unit_cost=0.25), Cookie(cookie_name='oatmeal raisin', cookie_recipe_url='http://some.okay.me/cookie/raisin.html', cookie_sku='EWW01', quantity=100, unit_cost=1.00)]\n"
     ]
    }
   ],
   "source": [
    "# Example 7-4 Get all the cookies\n",
    "cookies = session.query(Cookie).all()\n",
    "print(cookies)"
   ]
  },
  {
   "cell_type": "code",
   "execution_count": 242,
   "metadata": {},
   "outputs": [
    {
     "name": "stdout",
     "output_type": "stream",
     "text": [
      "2024-01-03 09:50:15,171 INFO sqlalchemy.engine.Engine SELECT cookies.cookie_id AS cookies_cookie_id, cookies.cookie_name AS cookies_cookie_name, cookies.cookie_recipe_url AS cookies_cookie_recipe_url, cookies.cookie_sku AS cookies_cookie_sku, cookies.quantity AS cookies_quantity, cookies.unit_cost AS cookies_unit_cost \n",
      "FROM cookies\n",
      "2024-01-03 09:50:15,173 INFO sqlalchemy.engine.Engine [cached since 0.01615s ago] ()\n",
      "Cookie(cookie_name='chocolate chip', cookie_recipe_url='http://some.aweso.me/cookie/recipe.html', cookie_sku='CC01', quantity=12, unit_cost=0.50)\n",
      "Cookie(cookie_name='dark chocolate chip', cookie_recipe_url='http://some.aweso.me/cookie/recipe_dark.html', cookie_sku='CC02', quantity=1, unit_cost=0.75)\n",
      "Cookie(cookie_name='molasses', cookie_recipe_url='http://some.aweso.me/cookie/recipe_molasses.html', cookie_sku='MOL01', quantity=1, unit_cost=0.80)\n",
      "Cookie(cookie_name='peanut butter', cookie_recipe_url='http://some.aweso.me/cookie/peanut.html', cookie_sku='PB01', quantity=24, unit_cost=0.25)\n",
      "Cookie(cookie_name='oatmeal raisin', cookie_recipe_url='http://some.okay.me/cookie/raisin.html', cookie_sku='EWW01', quantity=100, unit_cost=1.00)\n"
     ]
    }
   ],
   "source": [
    "for cookie in session.query(Cookie):\n",
    "    print(cookie)"
   ]
  },
  {
   "cell_type": "code",
   "execution_count": 243,
   "metadata": {},
   "outputs": [
    {
     "name": "stdout",
     "output_type": "stream",
     "text": [
      "2024-01-03 09:50:15,189 INFO sqlalchemy.engine.Engine SELECT cookies.cookie_name AS cookies_cookie_name, cookies.quantity AS cookies_quantity \n",
      "FROM cookies\n",
      " LIMIT ? OFFSET ?\n",
      "2024-01-03 09:50:15,191 INFO sqlalchemy.engine.Engine [generated in 0.00158s] (1, 0)\n",
      "('chocolate chip', 12)\n"
     ]
    }
   ],
   "source": [
    "# Example 7-6 Select only cookie_name and quantity\n",
    "\n",
    "print(session.query(Cookie.cookie_name, Cookie.quantity).first())"
   ]
  },
  {
   "cell_type": "code",
   "execution_count": 244,
   "metadata": {},
   "outputs": [
    {
     "name": "stdout",
     "output_type": "stream",
     "text": [
      "2024-01-03 09:50:15,219 INFO sqlalchemy.engine.Engine SELECT cookies.cookie_id AS cookies_cookie_id, cookies.cookie_name AS cookies_cookie_name, cookies.cookie_recipe_url AS cookies_cookie_recipe_url, cookies.cookie_sku AS cookies_cookie_sku, cookies.quantity AS cookies_quantity, cookies.unit_cost AS cookies_unit_cost \n",
      "FROM cookies ORDER BY cookies.quantity\n",
      "2024-01-03 09:50:15,220 INFO sqlalchemy.engine.Engine [generated in 0.00114s] ()\n",
      "  1 - dark chocolate chip\n",
      "  1 - molasses\n",
      " 12 - chocolate chip\n",
      " 24 - peanut butter\n",
      "100 - oatmeal raisin\n"
     ]
    }
   ],
   "source": [
    "for cookie in session.query(Cookie).order_by(Cookie.quantity):\n",
    "    print('{:3} - {}'.format(cookie.quantity, cookie.cookie_name))"
   ]
  },
  {
   "cell_type": "code",
   "execution_count": 245,
   "metadata": {},
   "outputs": [
    {
     "name": "stdout",
     "output_type": "stream",
     "text": [
      "2024-01-03 09:50:15,240 INFO sqlalchemy.engine.Engine SELECT cookies.cookie_id AS cookies_cookie_id, cookies.cookie_name AS cookies_cookie_name, cookies.cookie_recipe_url AS cookies_cookie_recipe_url, cookies.cookie_sku AS cookies_cookie_sku, cookies.quantity AS cookies_quantity, cookies.unit_cost AS cookies_unit_cost \n",
      "FROM cookies ORDER BY cookies.quantity DESC\n",
      "2024-01-03 09:50:15,242 INFO sqlalchemy.engine.Engine [generated in 0.00147s] ()\n",
      "100 - oatmeal raisin\n",
      " 24 - peanut butter\n",
      " 12 - chocolate chip\n",
      "  1 - dark chocolate chip\n",
      "  1 - molasses\n"
     ]
    }
   ],
   "source": [
    "from sqlalchemy import desc\n",
    "for cookie in session.query(Cookie).order_by(desc(Cookie.quantity)):\n",
    "    print('{:3} - {}'.format(cookie.quantity, cookie.cookie_name))"
   ]
  },
  {
   "cell_type": "code",
   "execution_count": 246,
   "metadata": {},
   "outputs": [
    {
     "name": "stdout",
     "output_type": "stream",
     "text": [
      "2024-01-03 09:50:15,267 INFO sqlalchemy.engine.Engine SELECT cookies.cookie_id AS cookies_cookie_id, cookies.cookie_name AS cookies_cookie_name, cookies.cookie_recipe_url AS cookies_cookie_recipe_url, cookies.cookie_sku AS cookies_cookie_sku, cookies.quantity AS cookies_quantity, cookies.unit_cost AS cookies_unit_cost \n",
      "FROM cookies ORDER BY cookies.quantity\n",
      " LIMIT ? OFFSET ?\n",
      "2024-01-03 09:50:15,269 INFO sqlalchemy.engine.Engine [generated in 0.00148s] (2, 0)\n",
      "['dark chocolate chip', 'molasses']\n"
     ]
    }
   ],
   "source": [
    "# Example 7-9 Two fewest cookie inventories\n",
    "query = session.query(Cookie).order_by(Cookie.quantity)[:2]\n",
    "print([result.cookie_name for result in query])"
   ]
  },
  {
   "cell_type": "code",
   "execution_count": 247,
   "metadata": {},
   "outputs": [
    {
     "name": "stdout",
     "output_type": "stream",
     "text": [
      "2024-01-03 09:50:15,286 INFO sqlalchemy.engine.Engine SELECT cookies.cookie_id AS cookies_cookie_id, cookies.cookie_name AS cookies_cookie_name, cookies.cookie_recipe_url AS cookies_cookie_recipe_url, cookies.cookie_sku AS cookies_cookie_sku, cookies.quantity AS cookies_quantity, cookies.unit_cost AS cookies_unit_cost \n",
      "FROM cookies ORDER BY cookies.quantity\n",
      " LIMIT ? OFFSET ?\n",
      "2024-01-03 09:50:15,287 INFO sqlalchemy.engine.Engine [cached since 0.02012s ago] (2, 0)\n",
      "['dark chocolate chip', 'molasses']\n"
     ]
    }
   ],
   "source": [
    "# Example 7-10 Two fewest cookie inventories with limit\n",
    "query = session.query(Cookie).order_by(Cookie.quantity).limit(2)\n",
    "print([result.cookie_name for result in query])"
   ]
  },
  {
   "cell_type": "code",
   "execution_count": 248,
   "metadata": {},
   "outputs": [
    {
     "name": "stdout",
     "output_type": "stream",
     "text": [
      "2024-01-03 09:50:15,313 INFO sqlalchemy.engine.Engine SELECT sum(cookies.quantity) AS sum_1 \n",
      "FROM cookies\n",
      "2024-01-03 09:50:15,315 INFO sqlalchemy.engine.Engine [generated in 0.00116s] ()\n",
      "138\n"
     ]
    }
   ],
   "source": [
    "# Exampe 7-11 Summing our cookies\n",
    "from sqlalchemy import func\n",
    "inv_count = session.query(func.sum(Cookie.quantity)).scalar()\n",
    "print(inv_count)"
   ]
  },
  {
   "cell_type": "code",
   "execution_count": 249,
   "metadata": {},
   "outputs": [
    {
     "name": "stdout",
     "output_type": "stream",
     "text": [
      "2024-01-03 09:50:15,337 INFO sqlalchemy.engine.Engine SELECT count(cookies.cookie_name) AS count_1 \n",
      "FROM cookies\n",
      " LIMIT ? OFFSET ?\n",
      "2024-01-03 09:50:15,339 INFO sqlalchemy.engine.Engine [generated in 0.00177s] (1, 0)\n",
      "(5,)\n"
     ]
    }
   ],
   "source": [
    "rec_count = session.query(func.count(Cookie.cookie_name)).first()\n",
    "print(rec_count)"
   ]
  },
  {
   "cell_type": "code",
   "execution_count": 250,
   "metadata": {},
   "outputs": [
    {
     "name": "stdout",
     "output_type": "stream",
     "text": [
      "2024-01-03 09:50:15,377 INFO sqlalchemy.engine.Engine SELECT count(cookies.cookie_name) AS inventory_count \n",
      "FROM cookies\n",
      " LIMIT ? OFFSET ?\n",
      "2024-01-03 09:50:15,378 INFO sqlalchemy.engine.Engine [generated in 0.00161s] (1, 0)\n",
      "RMKeyView(['inventory_count'])\n",
      "5\n"
     ]
    }
   ],
   "source": [
    "# Example 7-13 Renaming our count column\n",
    "rec_count = session.query(func.count(Cookie.cookie_name)\n",
    "                          .label('inventory_count')).first()\n",
    "print(rec_count.keys())\n",
    "print(rec_count.inventory_count)\n"
   ]
  },
  {
   "cell_type": "code",
   "execution_count": 251,
   "metadata": {},
   "outputs": [
    {
     "name": "stdout",
     "output_type": "stream",
     "text": [
      "2024-01-03 09:50:15,410 INFO sqlalchemy.engine.Engine SELECT cookies.cookie_id AS cookies_cookie_id, cookies.cookie_name AS cookies_cookie_name, cookies.cookie_recipe_url AS cookies_cookie_recipe_url, cookies.cookie_sku AS cookies_cookie_sku, cookies.quantity AS cookies_quantity, cookies.unit_cost AS cookies_unit_cost \n",
      "FROM cookies \n",
      "WHERE cookies.cookie_name = ?\n",
      " LIMIT ? OFFSET ?\n",
      "2024-01-03 09:50:15,411 INFO sqlalchemy.engine.Engine [generated in 0.00098s] ('chocolate chip', 1, 0)\n",
      "Cookie(cookie_name='chocolate chip', cookie_recipe_url='http://some.aweso.me/cookie/recipe.html', cookie_sku='CC01', quantity=12, unit_cost=0.50)\n"
     ]
    }
   ],
   "source": [
    "record = session.query(Cookie).filter(Cookie.cookie_name == 'chocolate chip').first()\n",
    "print(record)"
   ]
  },
  {
   "cell_type": "code",
   "execution_count": 252,
   "metadata": {},
   "outputs": [
    {
     "name": "stdout",
     "output_type": "stream",
     "text": [
      "2024-01-03 09:50:15,576 INFO sqlalchemy.engine.Engine SELECT cookies.cookie_id AS cookies_cookie_id, cookies.cookie_name AS cookies_cookie_name, cookies.cookie_recipe_url AS cookies_cookie_recipe_url, cookies.cookie_sku AS cookies_cookie_sku, cookies.quantity AS cookies_quantity, cookies.unit_cost AS cookies_unit_cost \n",
      "FROM cookies \n",
      "WHERE cookies.cookie_name LIKE ?\n",
      "2024-01-03 09:50:15,579 INFO sqlalchemy.engine.Engine [generated in 0.00261s] ('%chocolate%',)\n",
      "chocolate chip\n",
      "dark chocolate chip\n"
     ]
    }
   ],
   "source": [
    "# Example 7-16 Finding names with \"chocolate\" in them\n",
    "query = session.query(Cookie).filter(Cookie.cookie_name.like('%chocolate%'))\n",
    "for record in query:\n",
    "    print(record.cookie_name)"
   ]
  },
  {
   "cell_type": "code",
   "execution_count": 253,
   "metadata": {},
   "outputs": [
    {
     "name": "stdout",
     "output_type": "stream",
     "text": [
      "2024-01-03 09:50:15,638 INFO sqlalchemy.engine.Engine SELECT cookies.cookie_name AS cookies_cookie_name, ? || cookies.cookie_sku AS anon_1 \n",
      "FROM cookies\n",
      "2024-01-03 09:50:15,640 INFO sqlalchemy.engine.Engine [generated in 0.00246s] ('SKU-',)\n",
      "('chocolate chip', 'SKU-CC01')\n",
      "('dark chocolate chip', 'SKU-CC02')\n",
      "('molasses', 'SKU-MOL01')\n",
      "('peanut butter', 'SKU-PB01')\n",
      "('oatmeal raisin', 'SKU-EWW01')\n"
     ]
    }
   ],
   "source": [
    "results = session.query(Cookie.cookie_name, 'SKU-' + Cookie.cookie_sku).all()\n",
    "for row in results:\n",
    "    print(row)"
   ]
  },
  {
   "cell_type": "code",
   "execution_count": 254,
   "metadata": {},
   "outputs": [
    {
     "name": "stdout",
     "output_type": "stream",
     "text": [
      "2024-01-03 09:50:15,671 INFO sqlalchemy.engine.Engine SELECT cookies.cookie_name AS cookies_cookie_name, CAST(cookies.quantity * cookies.unit_cost AS NUMERIC(12, 2)) AS inv_cost \n",
      "FROM cookies\n",
      "2024-01-03 09:50:15,672 INFO sqlalchemy.engine.Engine [generated in 0.00125s] ()\n",
      "chocolate chip - 6.00\n",
      "dark chocolate chip - 0.75\n",
      "molasses - 0.80\n",
      "peanut butter - 6.00\n",
      "oatmeal raisin - 100.00\n"
     ]
    },
    {
     "name": "stderr",
     "output_type": "stream",
     "text": [
      "C:\\Users\\WX847\\AppData\\Local\\Temp\\ipykernel_74472\\1227448208.py:6: SAWarning: Dialect sqlite+pysqlite does *not* support Decimal objects natively, and SQLAlchemy must convert from floating point - rounding errors and other issues may occur. Please consider storing Decimal numbers as strings or integers on this platform for lossless storage.\n",
      "  for result in query:\n"
     ]
    }
   ],
   "source": [
    "# Example 7-18 Inventory value by cookie\n",
    "from sqlalchemy import cast\n",
    "query = session.query(Cookie.cookie_name,\n",
    "                      cast((Cookie.quantity * Cookie.unit_cost),\n",
    "                           Numeric(12, 2)).label('inv_cost'))\n",
    "for result in query:\n",
    "    print('{} - {}'.format(result.cookie_name, result.inv_cost))"
   ]
  },
  {
   "cell_type": "code",
   "execution_count": 255,
   "metadata": {},
   "outputs": [
    {
     "name": "stdout",
     "output_type": "stream",
     "text": [
      "2024-01-03 09:50:15,711 INFO sqlalchemy.engine.Engine SELECT cookies.cookie_name AS cookies_cookie_name, cookies.quantity * cookies.unit_cost AS inv_cost \n",
      "FROM cookies\n",
      "2024-01-03 09:50:15,712 INFO sqlalchemy.engine.Engine [generated in 0.00181s] ()\n",
      "chocolate chip - 6.00\n",
      "dark chocolate chip - 0.75\n",
      "molasses - 0.80\n",
      "peanut butter - 6.00\n",
      "oatmeal raisin - 100.00\n"
     ]
    }
   ],
   "source": [
    "# Example 7-18 Inventory value by cookie\n",
    "from sqlalchemy import cast\n",
    "query = session.query(Cookie.cookie_name,\n",
    "                      (Cookie.quantity * Cookie.unit_cost).label('inv_cost'))\n",
    "for result in query:\n",
    "    print('{} - {}'.format(result.cookie_name, result.inv_cost))"
   ]
  },
  {
   "cell_type": "code",
   "execution_count": 256,
   "metadata": {},
   "outputs": [
    {
     "name": "stdout",
     "output_type": "stream",
     "text": [
      "2024-01-03 09:50:15,844 INFO sqlalchemy.engine.Engine SELECT cookies.cookie_id AS cookies_cookie_id, cookies.cookie_name AS cookies_cookie_name, cookies.cookie_recipe_url AS cookies_cookie_recipe_url, cookies.cookie_sku AS cookies_cookie_sku, cookies.quantity AS cookies_quantity, cookies.unit_cost AS cookies_unit_cost \n",
      "FROM cookies \n",
      "WHERE cookies.quantity > ? AND cookies.unit_cost < ?\n",
      "2024-01-03 09:50:15,846 INFO sqlalchemy.engine.Engine [generated in 0.00130s] (23, 0.4)\n",
      "peanut butter\n"
     ]
    }
   ],
   "source": [
    "# Example 7-19 Using filter with multiple ClauseElement expression to perform an AND\n",
    "query = session.query(Cookie).filter(\n",
    "    Cookie.quantity > 23,\n",
    "    Cookie.unit_cost < 0.40\n",
    ")\n",
    "for result in query:\n",
    "    print(result.cookie_name)"
   ]
  },
  {
   "cell_type": "code",
   "execution_count": 257,
   "metadata": {},
   "outputs": [
    {
     "name": "stdout",
     "output_type": "stream",
     "text": [
      "2024-01-03 09:50:15,870 INFO sqlalchemy.engine.Engine SELECT cookies.cookie_id AS cookies_cookie_id, cookies.cookie_name AS cookies_cookie_name, cookies.cookie_recipe_url AS cookies_cookie_recipe_url, cookies.cookie_sku AS cookies_cookie_sku, cookies.quantity AS cookies_quantity, cookies.unit_cost AS cookies_unit_cost \n",
      "FROM cookies \n",
      "WHERE cookies.quantity BETWEEN ? AND ? OR (cookies.cookie_name LIKE '%' || ? || '%')\n",
      "2024-01-03 09:50:15,871 INFO sqlalchemy.engine.Engine [generated in 0.00139s] (10, 50, 'chip')\n",
      "chocolate chip\n",
      "dark chocolate chip\n",
      "peanut butter\n"
     ]
    }
   ],
   "source": [
    "# Example 7-20 Using the or() conjunction\n",
    "from sqlalchemy import and_, or_, not_\n",
    "\n",
    "query = session.query(Cookie).filter(\n",
    "    or_(\n",
    "        Cookie.quantity.between(10, 50),\n",
    "        Cookie.cookie_name.contains('chip')\n",
    "    )\n",
    ")\n",
    "\n",
    "for result in query:\n",
    "    print(result.cookie_name)"
   ]
  },
  {
   "cell_type": "code",
   "execution_count": 258,
   "metadata": {},
   "outputs": [
    {
     "name": "stdout",
     "output_type": "stream",
     "text": [
      "2024-01-03 09:50:15,901 INFO sqlalchemy.engine.Engine SELECT cookies.cookie_id AS cookies_cookie_id, cookies.cookie_name AS cookies_cookie_name, cookies.cookie_recipe_url AS cookies_cookie_recipe_url, cookies.cookie_sku AS cookies_cookie_sku, cookies.quantity AS cookies_quantity, cookies.unit_cost AS cookies_unit_cost \n",
      "FROM cookies \n",
      "WHERE cookies.cookie_name = ?\n",
      " LIMIT ? OFFSET ?\n",
      "2024-01-03 09:50:15,902 INFO sqlalchemy.engine.Engine [cached since 0.4919s ago] ('chocolate chip', 1, 0)\n",
      "2024-01-03 09:50:15,905 INFO sqlalchemy.engine.Engine UPDATE cookies SET quantity=? WHERE cookies.cookie_id = ?\n",
      "2024-01-03 09:50:15,907 INFO sqlalchemy.engine.Engine [generated in 0.00160s] (132, 1)\n",
      "2024-01-03 09:50:15,909 INFO sqlalchemy.engine.Engine COMMIT\n",
      "2024-01-03 09:50:15,912 INFO sqlalchemy.engine.Engine BEGIN (implicit)\n",
      "2024-01-03 09:50:15,913 INFO sqlalchemy.engine.Engine SELECT cookies.cookie_id AS cookies_cookie_id, cookies.cookie_name AS cookies_cookie_name, cookies.cookie_recipe_url AS cookies_cookie_recipe_url, cookies.cookie_sku AS cookies_cookie_sku, cookies.quantity AS cookies_quantity, cookies.unit_cost AS cookies_unit_cost \n",
      "FROM cookies \n",
      "WHERE cookies.cookie_id = ?\n",
      "2024-01-03 09:50:15,914 INFO sqlalchemy.engine.Engine [cached since 0.8485s ago] (1,)\n",
      "132\n"
     ]
    }
   ],
   "source": [
    "# Example 7-21 Updating data via object\n",
    "query = session.query(Cookie)\n",
    "cc_cookie = query.filter(Cookie.cookie_name==\"chocolate chip\").first()\n",
    "cc_cookie.quantity = cc_cookie.quantity + 120\n",
    "session.commit()\n",
    "print(cc_cookie.quantity)"
   ]
  },
  {
   "cell_type": "code",
   "execution_count": 259,
   "metadata": {},
   "outputs": [
    {
     "name": "stdout",
     "output_type": "stream",
     "text": [
      "2024-01-03 09:50:15,934 INFO sqlalchemy.engine.Engine UPDATE cookies SET quantity=(cookies.quantity - ?) WHERE cookies.cookie_name = ?\n",
      "2024-01-03 09:50:15,935 INFO sqlalchemy.engine.Engine [generated in 0.00113s] (20, 'chocolate chip')\n",
      "2024-01-03 09:50:15,938 INFO sqlalchemy.engine.Engine SELECT cookies.cookie_id AS cookies_cookie_id, cookies.cookie_name AS cookies_cookie_name, cookies.cookie_recipe_url AS cookies_cookie_recipe_url, cookies.cookie_sku AS cookies_cookie_sku, cookies.quantity AS cookies_quantity, cookies.unit_cost AS cookies_unit_cost \n",
      "FROM cookies \n",
      "WHERE cookies.cookie_name = ?\n",
      " LIMIT ? OFFSET ?\n",
      "2024-01-03 09:50:15,938 INFO sqlalchemy.engine.Engine [cached since 0.5283s ago] ('chocolate chip', 1, 0)\n",
      "112\n"
     ]
    }
   ],
   "source": [
    "# Example 7-22 Updating data in place\n",
    "query = session.query(Cookie)\n",
    "query = query.filter(Cookie.cookie_name == \"chocolate chip\")\n",
    "query.update({Cookie.quantity: Cookie.quantity - 20})\n",
    "\n",
    "cc_cookie = query.first()\n",
    "print(cc_cookie.quantity)"
   ]
  },
  {
   "cell_type": "code",
   "execution_count": 260,
   "metadata": {},
   "outputs": [
    {
     "name": "stdout",
     "output_type": "stream",
     "text": [
      "2024-01-03 09:50:15,964 INFO sqlalchemy.engine.Engine SELECT cookies.cookie_id AS cookies_cookie_id, cookies.cookie_name AS cookies_cookie_name, cookies.cookie_recipe_url AS cookies_cookie_recipe_url, cookies.cookie_sku AS cookies_cookie_sku, cookies.quantity AS cookies_quantity, cookies.unit_cost AS cookies_unit_cost \n",
      "FROM cookies \n",
      "WHERE cookies.cookie_name = ?\n",
      "2024-01-03 09:50:15,965 INFO sqlalchemy.engine.Engine [generated in 0.00121s] ('dark chocolate chip',)\n",
      "2024-01-03 09:50:15,968 INFO sqlalchemy.engine.Engine DELETE FROM cookies WHERE cookies.cookie_id = ?\n",
      "2024-01-03 09:50:15,969 INFO sqlalchemy.engine.Engine [generated in 0.00108s] (2,)\n",
      "2024-01-03 09:50:15,972 INFO sqlalchemy.engine.Engine COMMIT\n",
      "2024-01-03 09:50:15,976 INFO sqlalchemy.engine.Engine BEGIN (implicit)\n",
      "2024-01-03 09:50:15,978 INFO sqlalchemy.engine.Engine SELECT cookies.cookie_id AS cookies_cookie_id, cookies.cookie_name AS cookies_cookie_name, cookies.cookie_recipe_url AS cookies_cookie_recipe_url, cookies.cookie_sku AS cookies_cookie_sku, cookies.quantity AS cookies_quantity, cookies.unit_cost AS cookies_unit_cost \n",
      "FROM cookies \n",
      "WHERE cookies.cookie_name = ?\n",
      " LIMIT ? OFFSET ?\n",
      "2024-01-03 09:50:15,980 INFO sqlalchemy.engine.Engine [cached since 0.5695s ago] ('dark chocolate chip', 1, 0)\n",
      "None\n"
     ]
    }
   ],
   "source": [
    "# Example 7-23 Deleting data\n",
    "query = session.query(Cookie)\n",
    "query = query.filter(Cookie.cookie_name == \"dark chocolate chip\")\n",
    "dcc_cookie = query.one()\n",
    "session.delete(dcc_cookie)\n",
    "session.commit()\n",
    "dcc_cookie = query.first()\n",
    "print(dcc_cookie)"
   ]
  },
  {
   "cell_type": "code",
   "execution_count": 261,
   "metadata": {},
   "outputs": [
    {
     "name": "stdout",
     "output_type": "stream",
     "text": [
      "2024-01-03 09:50:15,997 INFO sqlalchemy.engine.Engine DELETE FROM cookies WHERE cookies.cookie_name = ?\n",
      "2024-01-03 09:50:15,998 INFO sqlalchemy.engine.Engine [generated in 0.00161s] ('molasses',)\n",
      "2024-01-03 09:50:16,000 INFO sqlalchemy.engine.Engine SELECT cookies.cookie_id AS cookies_cookie_id, cookies.cookie_name AS cookies_cookie_name, cookies.cookie_recipe_url AS cookies_cookie_recipe_url, cookies.cookie_sku AS cookies_cookie_sku, cookies.quantity AS cookies_quantity, cookies.unit_cost AS cookies_unit_cost \n",
      "FROM cookies \n",
      "WHERE cookies.cookie_name = ?\n",
      " LIMIT ? OFFSET ?\n",
      "2024-01-03 09:50:16,001 INFO sqlalchemy.engine.Engine [cached since 0.5908s ago] ('molasses', 1, 0)\n",
      "None\n"
     ]
    }
   ],
   "source": [
    "# Example 7-24 Deleting data\n",
    "query = session.query(Cookie)\n",
    "query = query.filter(Cookie.cookie_name==\"molasses\")\n",
    "query.delete()\n",
    "mol_cookie = query.first()\n",
    "print(mol_cookie)"
   ]
  },
  {
   "cell_type": "code",
   "execution_count": 262,
   "metadata": {},
   "outputs": [
    {
     "name": "stdout",
     "output_type": "stream",
     "text": [
      "2024-01-03 09:50:16,031 INFO sqlalchemy.engine.Engine INSERT INTO users (username, email_address, phone, password, created_on, updated_on) VALUES (?, ?, ?, ?, ?, ?)\n",
      "2024-01-03 09:50:16,034 INFO sqlalchemy.engine.Engine [generated in 0.00325s] ('cookiemon', 'mon@cookie.com', '111-111-111', 'password', '2024-01-03 09:50:16.031867', '2024-01-03 09:50:16.031867')\n",
      "2024-01-03 09:50:16,036 INFO sqlalchemy.engine.Engine INSERT INTO users (username, email_address, phone, password, created_on, updated_on) VALUES (?, ?, ?, ?, ?, ?)\n",
      "2024-01-03 09:50:16,037 INFO sqlalchemy.engine.Engine [cached since 0.006614s ago] ('cakeeater', 'cakeeater@cake.com', 'password', 'password', '2024-01-03 09:50:16.036868', '2024-01-03 09:50:16.036868')\n",
      "2024-01-03 09:50:16,039 INFO sqlalchemy.engine.Engine INSERT INTO users (username, email_address, phone, password, created_on, updated_on) VALUES (?, ?, ?, ?, ?, ?)\n",
      "2024-01-03 09:50:16,041 INFO sqlalchemy.engine.Engine [cached since 0.01023s ago] ('pieperson', 'person@pie.com', '333-333-3333', 'password', '2024-01-03 09:50:16.039867', '2024-01-03 09:50:16.039867')\n",
      "2024-01-03 09:50:16,043 INFO sqlalchemy.engine.Engine COMMIT\n"
     ]
    }
   ],
   "source": [
    "cookiemon = User(username='cookiemon',\n",
    "                 email_address='mon@cookie.com',\n",
    "                 phone='111-111-111',\n",
    "                 password='password')\n",
    "cakeeater = User(username='cakeeater',\n",
    "                 email_address='cakeeater@cake.com',\n",
    "                 phone='password',\n",
    "                 password='password')\n",
    "pieperson = User(username='pieperson',\n",
    "                 email_address='person@pie.com',\n",
    "                 phone='333-333-3333',\n",
    "                 password='password')\n",
    "session.add(cookiemon)\n",
    "session.add(cakeeater)\n",
    "session.add(pieperson)\n",
    "session.commit()"
   ]
  },
  {
   "cell_type": "code",
   "execution_count": 263,
   "metadata": {},
   "outputs": [
    {
     "name": "stdout",
     "output_type": "stream",
     "text": [
      "2024-01-03 09:50:16,062 INFO sqlalchemy.engine.Engine BEGIN (implicit)\n",
      "2024-01-03 09:50:16,065 INFO sqlalchemy.engine.Engine SELECT users.user_id AS users_user_id, users.username AS users_username, users.email_address AS users_email_address, users.phone AS users_phone, users.password AS users_password, users.created_on AS users_created_on, users.updated_on AS users_updated_on \n",
      "FROM users \n",
      "WHERE users.user_id = ?\n",
      "2024-01-03 09:50:16,067 INFO sqlalchemy.engine.Engine [generated in 0.00158s] (1,)\n",
      "2024-01-03 09:50:16,070 INFO sqlalchemy.engine.Engine INSERT INTO orders (user_id, shipped) VALUES (?, ?)\n",
      "2024-01-03 09:50:16,071 INFO sqlalchemy.engine.Engine [generated in 0.00112s] (1, 0)\n",
      "2024-01-03 09:50:16,074 INFO sqlalchemy.engine.Engine SELECT cookies.cookie_id AS cookies_cookie_id, cookies.cookie_name AS cookies_cookie_name, cookies.cookie_recipe_url AS cookies_cookie_recipe_url, cookies.cookie_sku AS cookies_cookie_sku, cookies.quantity AS cookies_quantity, cookies.unit_cost AS cookies_unit_cost \n",
      "FROM cookies \n",
      "WHERE cookies.cookie_name = ?\n",
      "2024-01-03 09:50:16,075 INFO sqlalchemy.engine.Engine [cached since 0.1109s ago] ('chocolate chip',)\n",
      "2024-01-03 09:50:16,078 INFO sqlalchemy.engine.Engine SELECT cookies.cookie_id AS cookies_cookie_id, cookies.cookie_name AS cookies_cookie_name, cookies.cookie_recipe_url AS cookies_cookie_recipe_url, cookies.cookie_sku AS cookies_cookie_sku, cookies.quantity AS cookies_quantity, cookies.unit_cost AS cookies_unit_cost \n",
      "FROM cookies \n",
      "WHERE cookies.cookie_name = ?\n",
      "2024-01-03 09:50:16,079 INFO sqlalchemy.engine.Engine [cached since 0.1148s ago] ('peanut butter',)\n",
      "2024-01-03 09:50:16,082 INFO sqlalchemy.engine.Engine INSERT INTO line_items (order_id, cookie_id, quantity, extended_cost) VALUES (?, ?, ?, ?)\n",
      "2024-01-03 09:50:16,083 INFO sqlalchemy.engine.Engine [generated in 0.00099s] (1, 4, 12, 3.0)\n",
      "2024-01-03 09:50:16,086 INFO sqlalchemy.engine.Engine SELECT line_items.line_item_id AS line_items_line_item_id, line_items.order_id AS line_items_order_id, line_items.cookie_id AS line_items_cookie_id, line_items.quantity AS line_items_quantity, line_items.extended_cost AS line_items_extended_cost \n",
      "FROM line_items \n",
      "WHERE ? = line_items.order_id ORDER BY line_items.line_item_id\n",
      "2024-01-03 09:50:16,086 INFO sqlalchemy.engine.Engine [generated in 0.00058s] (1,)\n",
      "2024-01-03 09:50:16,088 INFO sqlalchemy.engine.Engine INSERT INTO line_items (order_id, cookie_id, quantity, extended_cost) VALUES (?, ?, ?, ?)\n",
      "2024-01-03 09:50:16,089 INFO sqlalchemy.engine.Engine [cached since 0.007048s ago] (1, 1, 2, 1.0)\n",
      "2024-01-03 09:50:16,091 INFO sqlalchemy.engine.Engine COMMIT\n"
     ]
    },
    {
     "name": "stderr",
     "output_type": "stream",
     "text": [
      "C:\\Users\\WX847\\AppData\\Local\\Temp\\ipykernel_74472\\4294402812.py:13: SAWarning: Dialect sqlite+pysqlite does *not* support Decimal objects natively, and SQLAlchemy must convert from floating point - rounding errors and other issues may occur. Please consider storing Decimal numbers as strings or integers on this platform for lossless storage.\n",
      "  o1.line_items.append(line1)\n"
     ]
    }
   ],
   "source": [
    "o1 = Order()  # 创建一个订单\n",
    "o1.user = cookiemon  # 添加订单的用户\n",
    "session.add(o1)\n",
    "# 订单内的第一个产品线\n",
    "cc = session.query(Cookie).filter(Cookie.cookie_name=='chocolate chip').one()\n",
    "line1 = LineItem(cookie=cc, quantity=2, extended_cost=1.00)\n",
    "# 订单内的第二个产品线\n",
    "pb = session.query(Cookie).filter(Cookie.cookie_name=='peanut butter').one()\n",
    "line2 = LineItem(quantity=12, extended_cost=3.00)\n",
    "line2.cookie = pb\n",
    "line2.order = o1\n",
    "\n",
    "o1.line_items.append(line1)\n",
    "o1.line_items.append(line2)\n",
    "session.commit()"
   ]
  },
  {
   "cell_type": "code",
   "execution_count": 264,
   "metadata": {},
   "outputs": [
    {
     "name": "stdout",
     "output_type": "stream",
     "text": [
      "2024-01-03 09:50:16,113 INFO sqlalchemy.engine.Engine BEGIN (implicit)\n",
      "2024-01-03 09:50:16,115 INFO sqlalchemy.engine.Engine SELECT users.user_id AS users_user_id, users.username AS users_username, users.email_address AS users_email_address, users.phone AS users_phone, users.password AS users_password, users.created_on AS users_created_on, users.updated_on AS users_updated_on \n",
      "FROM users \n",
      "WHERE users.user_id = ?\n",
      "2024-01-03 09:50:16,117 INFO sqlalchemy.engine.Engine [cached since 0.05165s ago] (2,)\n",
      "2024-01-03 09:50:16,120 INFO sqlalchemy.engine.Engine INSERT INTO orders (user_id, shipped) VALUES (?, ?)\n",
      "2024-01-03 09:50:16,121 INFO sqlalchemy.engine.Engine [cached since 0.05139s ago] (2, 0)\n",
      "2024-01-03 09:50:16,124 INFO sqlalchemy.engine.Engine SELECT cookies.cookie_id AS cookies_cookie_id, cookies.cookie_name AS cookies_cookie_name, cookies.cookie_recipe_url AS cookies_cookie_recipe_url, cookies.cookie_sku AS cookies_cookie_sku, cookies.quantity AS cookies_quantity, cookies.unit_cost AS cookies_unit_cost \n",
      "FROM cookies \n",
      "WHERE cookies.cookie_name = ?\n",
      "2024-01-03 09:50:16,125 INFO sqlalchemy.engine.Engine [cached since 0.161s ago] ('chocolate chip',)\n",
      "2024-01-03 09:50:16,128 INFO sqlalchemy.engine.Engine SELECT cookies.cookie_id AS cookies_cookie_id, cookies.cookie_name AS cookies_cookie_name, cookies.cookie_recipe_url AS cookies_cookie_recipe_url, cookies.cookie_sku AS cookies_cookie_sku, cookies.quantity AS cookies_quantity, cookies.unit_cost AS cookies_unit_cost \n",
      "FROM cookies \n",
      "WHERE cookies.cookie_name = ?\n",
      "2024-01-03 09:50:16,129 INFO sqlalchemy.engine.Engine [cached since 0.1652s ago] ('oatmeal raisin',)\n",
      "2024-01-03 09:50:16,132 INFO sqlalchemy.engine.Engine SELECT line_items.line_item_id AS line_items_line_item_id, line_items.order_id AS line_items_order_id, line_items.cookie_id AS line_items_cookie_id, line_items.quantity AS line_items_quantity, line_items.extended_cost AS line_items_extended_cost \n",
      "FROM line_items \n",
      "WHERE ? = line_items.order_id ORDER BY line_items.line_item_id\n",
      "2024-01-03 09:50:16,133 INFO sqlalchemy.engine.Engine [cached since 0.04757s ago] (2,)\n",
      "2024-01-03 09:50:16,136 INFO sqlalchemy.engine.Engine INSERT INTO line_items (order_id, cookie_id, quantity, extended_cost) VALUES (?, ?, ?, ?)\n",
      "2024-01-03 09:50:16,137 INFO sqlalchemy.engine.Engine [cached since 0.05449s ago] (2, 1, 25, 12.0)\n",
      "2024-01-03 09:50:16,138 INFO sqlalchemy.engine.Engine INSERT INTO line_items (order_id, cookie_id, quantity, extended_cost) VALUES (?, ?, ?, ?)\n",
      "2024-01-03 09:50:16,139 INFO sqlalchemy.engine.Engine [cached since 0.05703s ago] (2, 5, 6, 6.0)\n",
      "2024-01-03 09:50:16,141 INFO sqlalchemy.engine.Engine COMMIT\n"
     ]
    }
   ],
   "source": [
    "o2 = Order()\n",
    "o2.user = cakeeater\n",
    "\n",
    "cc = session.query(Cookie).filter(Cookie.cookie_name == 'chocolate chip').one()\n",
    "line1 = LineItem(cookie=cc, quantity=25, extended_cost=12.00)\n",
    "oat = session.query(Cookie).filter(Cookie.cookie_name == 'oatmeal raisin').one()\n",
    "line2 = LineItem(cookie=oat, quantity=6, extended_cost=6.00)\n",
    "\n",
    "o2.line_items.append(line1)\n",
    "o2.line_items.append(line2)\n",
    "\n",
    "session.add(o2)\n",
    "session.commit()"
   ]
  },
  {
   "cell_type": "code",
   "execution_count": 265,
   "metadata": {},
   "outputs": [
    {
     "name": "stdout",
     "output_type": "stream",
     "text": [
      "2024-01-03 09:50:16,157 INFO sqlalchemy.engine.Engine BEGIN (implicit)\n",
      "2024-01-03 09:50:16,162 INFO sqlalchemy.engine.Engine SELECT orders.order_id AS orders_order_id, users.username AS users_username, users.phone AS users_phone, cookies.cookie_name AS cookies_cookie_name, line_items.quantity AS line_items_quantity, line_items.extended_cost AS line_items_extended_cost \n",
      "FROM orders JOIN users ON users.user_id = orders.user_id JOIN line_items ON orders.order_id = line_items.order_id JOIN cookies ON cookies.cookie_id = line_items.cookie_id \n",
      "WHERE users.username = ?\n",
      "2024-01-03 09:50:16,164 INFO sqlalchemy.engine.Engine [generated in 0.00167s] ('cookiemon',)\n",
      "[(1, 'cookiemon', '111-111-111', 'peanut butter', 12, Decimal('3.00')), (1, 'cookiemon', '111-111-111', 'chocolate chip', 2, Decimal('1.00'))]\n"
     ]
    }
   ],
   "source": [
    "# Example 7-26 Using join to select from multiple tables\n",
    "query = session.query(Order.order_id, User.username, User.phone,\n",
    "                      Cookie.cookie_name, LineItem.quantity,\n",
    "                      LineItem.extended_cost)\n",
    "query = query.join(User).join(LineItem).join(Cookie)\n",
    "results = query.filter(User.username == 'cookiemon').all()\n",
    "print(results)"
   ]
  },
  {
   "cell_type": "code",
   "execution_count": 266,
   "metadata": {},
   "outputs": [
    {
     "name": "stdout",
     "output_type": "stream",
     "text": [
      "2024-01-03 09:50:16,187 INFO sqlalchemy.engine.Engine SELECT users.username AS users_username, count(orders.order_id) AS count_1 \n",
      "FROM users LEFT OUTER JOIN orders ON users.user_id = orders.user_id GROUP BY users.username\n",
      "2024-01-03 09:50:16,188 INFO sqlalchemy.engine.Engine [generated in 0.00145s] ()\n",
      "('cakeeater', 1)\n",
      "('cookiemon', 1)\n",
      "('pieperson', 0)\n"
     ]
    }
   ],
   "source": [
    "# Example 7-27 Using outerjoin to select from multiple tables\n",
    "query = session.query(User.username, func.count(Order.order_id))\n",
    "query = query.outerjoin(Order).group_by(User.username)\n",
    "for row in query:\n",
    "    print(row)"
   ]
  },
  {
   "cell_type": "code",
   "execution_count": 267,
   "metadata": {},
   "outputs": [
    {
     "name": "stdout",
     "output_type": "stream",
     "text": [
      "2024-01-03 09:50:16,223 INFO sqlalchemy.engine.Engine BEGIN (implicit)\n",
      "2024-01-03 09:50:16,225 INFO sqlalchemy.engine.Engine PRAGMA main.table_info(\"cookies\")\n",
      "2024-01-03 09:50:16,226 INFO sqlalchemy.engine.Engine [raw sql] ()\n",
      "2024-01-03 09:50:16,228 INFO sqlalchemy.engine.Engine PRAGMA main.table_info(\"users\")\n",
      "2024-01-03 09:50:16,228 INFO sqlalchemy.engine.Engine [raw sql] ()\n",
      "2024-01-03 09:50:16,229 INFO sqlalchemy.engine.Engine PRAGMA main.table_info(\"orders\")\n",
      "2024-01-03 09:50:16,230 INFO sqlalchemy.engine.Engine [raw sql] ()\n",
      "2024-01-03 09:50:16,231 INFO sqlalchemy.engine.Engine PRAGMA main.table_info(\"line_items\")\n",
      "2024-01-03 09:50:16,231 INFO sqlalchemy.engine.Engine [raw sql] ()\n",
      "2024-01-03 09:50:16,233 INFO sqlalchemy.engine.Engine PRAGMA main.table_info(\"employees\")\n",
      "2024-01-03 09:50:16,233 INFO sqlalchemy.engine.Engine [raw sql] ()\n",
      "2024-01-03 09:50:16,235 INFO sqlalchemy.engine.Engine PRAGMA temp.table_info(\"employees\")\n",
      "2024-01-03 09:50:16,235 INFO sqlalchemy.engine.Engine [raw sql] ()\n",
      "2024-01-03 09:50:16,237 INFO sqlalchemy.engine.Engine \n",
      "CREATE TABLE employees (\n",
      "\tid INTEGER NOT NULL, \n",
      "\tmanager_id INTEGER, \n",
      "\tname VARCHAR(255) NOT NULL, \n",
      "\tPRIMARY KEY (id), \n",
      "\tFOREIGN KEY(manager_id) REFERENCES employees (id)\n",
      ")\n",
      "\n",
      "\n",
      "2024-01-03 09:50:16,237 INFO sqlalchemy.engine.Engine [no key 0.00065s] ()\n",
      "2024-01-03 09:50:16,239 INFO sqlalchemy.engine.Engine COMMIT\n"
     ]
    }
   ],
   "source": [
    "class Employee(Base):\n",
    "    __tablename__ = 'employees'\n",
    "\n",
    "    id = Column(Integer(), primary_key=True)\n",
    "    manager_id = Column(Integer(), ForeignKey('employees.id'))\n",
    "    name = Column(String(255), nullable=False)\n",
    "\n",
    "    manage = relationship(\"Employee\", backref=backref('reports'),\n",
    "                          remote_side=[id])\n",
    "Base.metadata.create_all(engine)"
   ]
  },
  {
   "cell_type": "code",
   "execution_count": 268,
   "metadata": {},
   "outputs": [
    {
     "name": "stdout",
     "output_type": "stream",
     "text": [
      "2024-01-03 09:50:16,270 INFO sqlalchemy.engine.Engine INSERT INTO employees (manager_id, name) VALUES (?, ?)\n",
      "2024-01-03 09:50:16,272 INFO sqlalchemy.engine.Engine [generated in 0.00161s] (None, 'Marsha')\n",
      "2024-01-03 09:50:16,276 INFO sqlalchemy.engine.Engine INSERT INTO employees (manager_id, name) VALUES (?, ?)\n",
      "2024-01-03 09:50:16,277 INFO sqlalchemy.engine.Engine [cached since 0.006449s ago] (1, 'Fred')\n",
      "2024-01-03 09:50:16,278 INFO sqlalchemy.engine.Engine COMMIT\n"
     ]
    }
   ],
   "source": [
    "marsha = Employee(name='Marsha')\n",
    "fred = Employee(name='Fred')\n",
    "\n",
    "marsha.reports.append(fred)\n",
    "\n",
    "session.add(marsha)\n",
    "session.commit()"
   ]
  },
  {
   "cell_type": "code",
   "execution_count": 269,
   "metadata": {},
   "outputs": [
    {
     "name": "stdout",
     "output_type": "stream",
     "text": [
      "2024-01-03 09:50:16,345 INFO sqlalchemy.engine.Engine BEGIN (implicit)\n",
      "2024-01-03 09:50:16,349 INFO sqlalchemy.engine.Engine SELECT employees.id AS employees_id, employees.manager_id AS employees_manager_id, employees.name AS employees_name \n",
      "FROM employees \n",
      "WHERE employees.id = ?\n",
      "2024-01-03 09:50:16,350 INFO sqlalchemy.engine.Engine [generated in 0.00136s] (1,)\n",
      "2024-01-03 09:50:16,353 INFO sqlalchemy.engine.Engine SELECT employees.id AS employees_id, employees.manager_id AS employees_manager_id, employees.name AS employees_name \n",
      "FROM employees \n",
      "WHERE ? = employees.manager_id\n",
      "2024-01-03 09:50:16,354 INFO sqlalchemy.engine.Engine [generated in 0.00113s] (1,)\n",
      "Fred\n"
     ]
    }
   ],
   "source": [
    "for report in marsha.reports:\n",
    "    print(report.name)"
   ]
  },
  {
   "cell_type": "code",
   "execution_count": 270,
   "metadata": {},
   "outputs": [
    {
     "name": "stdout",
     "output_type": "stream",
     "text": [
      "2024-01-03 09:50:16,377 INFO sqlalchemy.engine.Engine SELECT users.username AS users_username, count(orders.order_id) AS count_1 \n",
      "FROM users LEFT OUTER JOIN orders ON users.user_id = orders.user_id GROUP BY users.username\n",
      "2024-01-03 09:50:16,396 INFO sqlalchemy.engine.Engine [cached since 0.2091s ago] ()\n",
      "('cakeeater', 1)\n",
      "('cookiemon', 1)\n",
      "('pieperson', 0)\n"
     ]
    }
   ],
   "source": [
    "# Example 7-28 Grouping data\n",
    "query = session.query(User.username, func.count(Order.order_id))\n",
    "query = query.outerjoin(Order).group_by(User.username)\n",
    "for row in query:\n",
    "    print(row)"
   ]
  },
  {
   "cell_type": "code",
   "execution_count": 271,
   "metadata": {},
   "outputs": [
    {
     "name": "stdout",
     "output_type": "stream",
     "text": [
      "2024-01-03 09:50:16,424 INFO sqlalchemy.engine.Engine SELECT orders.order_id AS orders_order_id, users.username AS users_username, users.phone AS users_phone, cookies.cookie_name AS cookies_cookie_name, line_items.quantity AS line_items_quantity, line_items.extended_cost AS line_items_extended_cost \n",
      "FROM orders JOIN users ON users.user_id = orders.user_id JOIN line_items ON orders.order_id = line_items.order_id JOIN cookies ON cookies.cookie_id = line_items.cookie_id \n",
      "WHERE users.username = ?\n",
      "2024-01-03 09:50:16,425 INFO sqlalchemy.engine.Engine [cached since 0.2633s ago] ('cakeeater',)\n"
     ]
    },
    {
     "data": {
      "text/plain": [
       "[(2, 'cakeeater', 'password', 'chocolate chip', 25, Decimal('12.00')),\n",
       " (2, 'cakeeater', 'password', 'oatmeal raisin', 6, Decimal('6.00'))]"
      ]
     },
     "execution_count": 271,
     "metadata": {},
     "output_type": "execute_result"
    }
   ],
   "source": [
    "# Example 7-29 Chaining\n",
    "def get_orders_by_customer(cust_name):\n",
    "    query = session.query(Order.order_id, User.username, User.phone,\n",
    "                          Cookie.cookie_name, LineItem.quantity,\n",
    "                          LineItem.extended_cost)\n",
    "    query = query.join(User).join(LineItem).join(Cookie)\n",
    "    results = query.filter(User.username == cust_name).all()\n",
    "    return results\n",
    "\n",
    "get_orders_by_customer('cakeeater')"
   ]
  },
  {
   "cell_type": "code",
   "execution_count": 273,
   "metadata": {},
   "outputs": [
    {
     "name": "stdout",
     "output_type": "stream",
     "text": [
      "2024-01-03 09:51:09,852 INFO sqlalchemy.engine.Engine SELECT orders.order_id AS orders_order_id, users.username AS users_username, users.phone AS users_phone \n",
      "FROM orders JOIN users ON users.user_id = orders.user_id \n",
      "WHERE users.username = ?\n",
      "2024-01-03 09:51:09,854 INFO sqlalchemy.engine.Engine [cached since 53.4s ago] ('cakeeater',)\n"
     ]
    },
    {
     "data": {
      "text/plain": [
       "[(2, 'cakeeater', 'password')]"
      ]
     },
     "execution_count": 273,
     "metadata": {},
     "output_type": "execute_result"
    }
   ],
   "source": [
    "# Example 7-30 Conditional chaining\n",
    "def get_orders_by_customer(cust_name, shipped=None, details=False):\n",
    "    query = session.query(Order.order_id, User.username, User.phone)\n",
    "    query = query.join(User)\n",
    "    if details:\n",
    "        query = query.add_columns(Cookie.cookie_name, LineItem.quantity,\n",
    "                                  LineItem.extended_cost)\n",
    "        query = query.join(LineItem).join(Cookie)\n",
    "    if shipped is not None:\n",
    "        query = query.where(Order.shipped == shipped)\n",
    "    results = query.filter(User.username == cust_name).all()\n",
    "    return results\n",
    "\n",
    "get_orders_by_customer('cakeeater')\n"
   ]
  },
  {
   "cell_type": "code",
   "execution_count": 274,
   "metadata": {},
   "outputs": [
    {
     "name": "stdout",
     "output_type": "stream",
     "text": [
      "2024-01-03 09:51:14,592 INFO sqlalchemy.engine.Engine SELECT orders.order_id AS orders_order_id, users.username AS users_username, users.phone AS users_phone, cookies.cookie_name AS cookies_cookie_name, line_items.quantity AS line_items_quantity, line_items.extended_cost AS line_items_extended_cost \n",
      "FROM orders JOIN users ON users.user_id = orders.user_id JOIN line_items ON orders.order_id = line_items.order_id JOIN cookies ON cookies.cookie_id = line_items.cookie_id \n",
      "WHERE users.username = ?\n",
      "2024-01-03 09:51:14,594 INFO sqlalchemy.engine.Engine [cached since 58.43s ago] ('cakeeater',)\n"
     ]
    },
    {
     "data": {
      "text/plain": [
       "[(2, 'cakeeater', 'password', 'chocolate chip', 25, Decimal('12.00')),\n",
       " (2, 'cakeeater', 'password', 'oatmeal raisin', 6, Decimal('6.00'))]"
      ]
     },
     "execution_count": 274,
     "metadata": {},
     "output_type": "execute_result"
    }
   ],
   "source": [
    "get_orders_by_customer('cakeeater', details=True)\n"
   ]
  },
  {
   "cell_type": "code",
   "execution_count": 275,
   "metadata": {},
   "outputs": [
    {
     "name": "stdout",
     "output_type": "stream",
     "text": [
      "2024-01-03 09:51:20,735 INFO sqlalchemy.engine.Engine SELECT orders.order_id AS orders_order_id, users.username AS users_username, users.phone AS users_phone \n",
      "FROM orders JOIN users ON users.user_id = orders.user_id \n",
      "WHERE orders.shipped = 1 AND users.username = ?\n",
      "2024-01-03 09:51:20,737 INFO sqlalchemy.engine.Engine [cached since 64.28s ago] ('cakeeater',)\n"
     ]
    },
    {
     "data": {
      "text/plain": [
       "[]"
      ]
     },
     "execution_count": 275,
     "metadata": {},
     "output_type": "execute_result"
    }
   ],
   "source": [
    "get_orders_by_customer('cakeeater', shipped=True)\n"
   ]
  },
  {
   "cell_type": "code",
   "execution_count": 276,
   "metadata": {},
   "outputs": [
    {
     "name": "stdout",
     "output_type": "stream",
     "text": [
      "2024-01-03 09:51:27,071 INFO sqlalchemy.engine.Engine SELECT orders.order_id AS orders_order_id, users.username AS users_username, users.phone AS users_phone \n",
      "FROM orders JOIN users ON users.user_id = orders.user_id \n",
      "WHERE orders.shipped = 0 AND users.username = ?\n",
      "2024-01-03 09:51:27,074 INFO sqlalchemy.engine.Engine [cached since 70.61s ago] ('cakeeater',)\n"
     ]
    },
    {
     "data": {
      "text/plain": [
       "[(2, 'cakeeater', 'password')]"
      ]
     },
     "execution_count": 276,
     "metadata": {},
     "output_type": "execute_result"
    }
   ],
   "source": [
    "get_orders_by_customer('cakeeater', shipped=False)\n"
   ]
  },
  {
   "cell_type": "code",
   "execution_count": 277,
   "metadata": {},
   "outputs": [
    {
     "name": "stdout",
     "output_type": "stream",
     "text": [
      "2024-01-03 09:51:31,904 INFO sqlalchemy.engine.Engine SELECT orders.order_id AS orders_order_id, users.username AS users_username, users.phone AS users_phone, cookies.cookie_name AS cookies_cookie_name, line_items.quantity AS line_items_quantity, line_items.extended_cost AS line_items_extended_cost \n",
      "FROM orders JOIN users ON users.user_id = orders.user_id JOIN line_items ON orders.order_id = line_items.order_id JOIN cookies ON cookies.cookie_id = line_items.cookie_id \n",
      "WHERE orders.shipped = 0 AND users.username = ?\n",
      "2024-01-03 09:51:31,907 INFO sqlalchemy.engine.Engine [cached since 75.44s ago] ('cakeeater',)\n"
     ]
    },
    {
     "data": {
      "text/plain": [
       "[(2, 'cakeeater', 'password', 'chocolate chip', 25, Decimal('12.00')),\n",
       " (2, 'cakeeater', 'password', 'oatmeal raisin', 6, Decimal('6.00'))]"
      ]
     },
     "execution_count": 277,
     "metadata": {},
     "output_type": "execute_result"
    }
   ],
   "source": [
    "get_orders_by_customer('cakeeater', shipped=False, details=True)"
   ]
  },
  {
   "cell_type": "code",
   "execution_count": 278,
   "metadata": {},
   "outputs": [
    {
     "name": "stdout",
     "output_type": "stream",
     "text": [
      "2024-01-03 09:53:50,447 INFO sqlalchemy.engine.Engine SELECT users.user_id AS users_user_id, users.username AS users_username, users.email_address AS users_email_address, users.phone AS users_phone, users.password AS users_password, users.created_on AS users_created_on, users.updated_on AS users_updated_on \n",
      "FROM users \n",
      "WHERE username = 'cookiemon'\n",
      "2024-01-03 09:53:50,449 INFO sqlalchemy.engine.Engine [generated in 0.00196s] ()\n",
      "[User(username='cookiemon', email_address='mon@cookie.com', phone='111-111-111', password='password')]\n"
     ]
    }
   ],
   "source": [
    "# Example 7-31 Partial text query\n",
    "from sqlalchemy import text\n",
    "query = session.query(User).filter(text(\"username = 'cookiemon'\"))\n",
    "print(query.all())"
   ]
  }
 ],
 "metadata": {
  "kernelspec": {
   "display_name": "py310",
   "language": "python",
   "name": "py310"
  },
  "language_info": {
   "codemirror_mode": {
    "name": "ipython",
    "version": 3
   },
   "file_extension": ".py",
   "mimetype": "text/x-python",
   "name": "python",
   "nbconvert_exporter": "python",
   "pygments_lexer": "ipython3",
   "version": "3.10.3"
  }
 },
 "nbformat": 4,
 "nbformat_minor": 2
}
