{
 "cells": [
  {
   "cell_type": "code",
   "execution_count": 19,
   "metadata": {},
   "outputs": [],
   "source": [
    "from sqlalchemy import create_engine\n",
    "from sqlalchemy.orm import sessionmaker\n",
    "\n",
    "engine = create_engine('sqlite:///:memory:')\n",
    "\n",
    "Session = sessionmaker(bind=engine)\n",
    "\n",
    "from datetime import datetime\n",
    "\n",
    "from sqlalchemy import Column, Integer, String, Numeric, Table, ForeignKey\n",
    "from sqlalchemy.orm import relationship\n",
    "from sqlalchemy.ext.declarative import declarative_base\n",
    "from sqlalchemy.ext.associationproxy import association_proxy\n",
    "\n",
    "Base = declarative_base()\n",
    "\n",
    "\n",
    "cookieingredients_table = Table('cookieingredients', Base.metadata,\n",
    "    Column('cookie_id', Integer, ForeignKey('cookies.cookie_id'), primary_key=True),\n",
    "    Column('ingredient_id', Integer, ForeignKey('ingredients.ingredient_id'), primary_key=True)\n",
    ")\n",
    "\n",
    "class Ingredient(Base):\n",
    "    __tablename__ = 'ingredients'\n",
    "    ingredient_id = Column(Integer, primary_key=True)\n",
    "    name = Column(String(255), index=True)\n",
    "\n",
    "    def __init__(self, name):\n",
    "        self.name = name\n",
    "\n",
    "    def __repr__(self):\n",
    "        return \"Ingredient(name='{self.name}')\".format(self=self)\n",
    "\n",
    "class Cookie(Base):\n",
    "    __tablename__ = 'cookies'\n",
    "\n",
    "    cookie_id = Column(Integer, primary_key=True)\n",
    "    cookie_name = Column(String(50), index=True)\n",
    "    cookie_recipe_url = Column(String(255))\n",
    "    cookie_sku = Column(String(55))\n",
    "    quantity = Column(Integer())\n",
    "    unit_cost = Column(Numeric(12, 2))\n",
    "\n",
    "    ingredients = relationship(\"Ingredient\", secondary=cookieingredients_table)\n",
    "\n",
    "    ingredient_names = association_proxy(\"ingredients\", \"name\")\n",
    "\n",
    "    def __repr__(self):\n",
    "        return \"Cookie(cookie_name='{self.cookie_name}', \" \\\n",
    "                    \"cookie_recipe_url='{self.cookie_recipe_url}', \" \\\n",
    "                    \"cookie_sku='{self.cookie_sku}', \" \\\n",
    "                    \"quantity={self.quantity}, \" \\\n",
    "                    \"unit_cost={self.unit_cost})\".format(self=self)\n",
    "\n",
    "Base.metadata.create_all(engine)"
   ]
  },
  {
   "cell_type": "code",
   "execution_count": 20,
   "metadata": {},
   "outputs": [],
   "source": [
    "session = Session()\n",
    "cc_cookie = Cookie(cookie_name='chocolate chip',\n",
    "                   cookie_recipe_url='http://some.aweso.me/cookie/recipe.html',\n",
    "                   cookie_sku='CC01',\n",
    "                   quantity=12,\n",
    "                   unit_cost=0.50)\n",
    "dcc = Cookie(cookie_name='dark chocolate chip',\n",
    "            cookie_recipe_url='http://some.aweso.me/cookie/recipe_dark.html',\n",
    "            cookie_sku='CC02',\n",
    "            quantity=1,\n",
    "            unit_cost=0.75)\n",
    "flour = Ingredient(name='Flour')\n",
    "sugar = Ingredient(name='Sugar')\n",
    "egg = Ingredient(name='Egg')\n",
    "cc = Ingredient(name='Chocolate chips')\n",
    "cc_cookie.ingredients.extend([flour, sugar, egg, cc])\n",
    "session.add(cc_cookie)\n",
    "session.add(dcc)\n",
    "session.flush()"
   ]
  },
  {
   "cell_type": "code",
   "execution_count": 21,
   "metadata": {},
   "outputs": [
    {
     "data": {
      "text/plain": [
       "['Flour', 'Sugar', 'Egg', 'Chocolate chips']"
      ]
     },
     "execution_count": 21,
     "metadata": {},
     "output_type": "execute_result"
    }
   ],
   "source": [
    "cc_cookie.ingredient_names"
   ]
  },
  {
   "cell_type": "code",
   "execution_count": 22,
   "metadata": {},
   "outputs": [],
   "source": [
    "cc_cookie.ingredient_names.append('Oil')\n",
    "session.flush()"
   ]
  },
  {
   "cell_type": "code",
   "execution_count": 23,
   "metadata": {},
   "outputs": [
    {
     "data": {
      "text/plain": [
       "['Flour', 'Sugar', 'Egg', 'Chocolate chips', 'Oil']"
      ]
     },
     "execution_count": 23,
     "metadata": {},
     "output_type": "execute_result"
    }
   ],
   "source": [
    "cc_cookie.ingredient_names"
   ]
  },
  {
   "cell_type": "code",
   "execution_count": 24,
   "metadata": {},
   "outputs": [],
   "source": [
    "# Example 14-8 filtering ingredients\n",
    "dcc_ingredient_list = ['Flour', 'Sugar', 'Egg', 'Dark Chocolate chips', 'Oil']\n",
    "existing_ingredients = session.query(Ingredient).filter(\n",
    "    Ingredient.name.in_(dcc_ingredient_list)\n",
    ").all()\n",
    "missing = set(dcc_ingredient_list) - set([x.name for x in existing_ingredients])"
   ]
  },
  {
   "cell_type": "code",
   "execution_count": 25,
   "metadata": {},
   "outputs": [],
   "source": [
    "dcc_ingredient_list.extend(existing_ingredients)\n",
    "dcc.ingredient_names.extend(missing)"
   ]
  },
  {
   "cell_type": "code",
   "execution_count": 26,
   "metadata": {},
   "outputs": [
    {
     "data": {
      "text/plain": [
       "['Flour',\n",
       " 'Sugar',\n",
       " 'Egg',\n",
       " 'Dark Chocolate chips',\n",
       " 'Oil',\n",
       " Ingredient(name='Egg'),\n",
       " Ingredient(name='Flour'),\n",
       " Ingredient(name='Oil'),\n",
       " Ingredient(name='Sugar')]"
      ]
     },
     "execution_count": 26,
     "metadata": {},
     "output_type": "execute_result"
    }
   ],
   "source": [
    "dcc_ingredient_list"
   ]
  },
  {
   "cell_type": "code",
   "execution_count": 28,
   "metadata": {},
   "outputs": [
    {
     "data": {
      "text/plain": [
       "['Dark Chocolate chips']"
      ]
     },
     "execution_count": 28,
     "metadata": {},
     "output_type": "execute_result"
    }
   ],
   "source": [
    "dcc.ingredient_names"
   ]
  }
 ],
 "metadata": {
  "kernelspec": {
   "display_name": "py310",
   "language": "python",
   "name": "py310"
  },
  "language_info": {
   "codemirror_mode": {
    "name": "ipython",
    "version": 3
   },
   "file_extension": ".py",
   "mimetype": "text/x-python",
   "name": "python",
   "nbconvert_exporter": "python",
   "pygments_lexer": "ipython3",
   "version": "3.10.3"
  }
 },
 "nbformat": 4,
 "nbformat_minor": 2
}
