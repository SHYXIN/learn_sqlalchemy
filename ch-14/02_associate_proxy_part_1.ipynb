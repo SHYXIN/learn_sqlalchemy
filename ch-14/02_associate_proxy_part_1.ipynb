{
 "cells": [
  {
   "cell_type": "code",
   "execution_count": 6,
   "metadata": {},
   "outputs": [],
   "source": [
    "# Example 14-6 Setting up our models and relationships\n",
    "from datetime import datetime\n",
    "from sqlalchemy import (Column, Integer, Numeric, String, Table,\n",
    "                        ForeignKey, create_engine)\n",
    "from sqlalchemy.orm import relationship, sessionmaker\n",
    "from sqlalchemy.ext.declarative import declarative_base\n",
    "\n",
    "engine = create_engine('sqlite:///:memory:')\n",
    "\n",
    "Base = declarative_base()\n",
    "Session = sessionmaker(bind=engine)\n",
    "\n",
    "\n",
    "cookieingredients_table = Table('cookieingredients', Base.metadata,\n",
    "    Column('cookie_id', Integer, ForeignKey(\"cookies.cookie_id\"), primary_key=True),\n",
    "    Column('ingredient_id', Integer, ForeignKey('ingredients.ingredient_id'), primary_key=True)\n",
    ")\n",
    "\n",
    "class Ingredient(Base):\n",
    "    __tablename__ = 'ingredients'\n",
    "\n",
    "    ingredient_id = Column(Integer, primary_key=True)\n",
    "    name = Column(String(255), index=True)\n",
    "\n",
    "    def __repr__(self):\n",
    "        return \"Ingredient(name='{self.name}')\".format(self=self)\n",
    "\n",
    "class Cookie(Base):\n",
    "    __tablename__ = 'cookies'\n",
    "\n",
    "    cookie_id = Column(Integer, primary_key=True)\n",
    "    cookie_name = Column(String(50), index=True)\n",
    "    cookie_recipe_url = Column(String(255))\n",
    "    cookie_sku = Column(String(55))\n",
    "    quantity = Column(Integer())\n",
    "    unit_cost = Column(Numeric(12, 2))\n",
    "\n",
    "    ingredients = relationship(\"Ingredient\", secondary=cookieingredients_table)\n",
    "\n",
    "    def __repr__(self):\n",
    "        return \"Cookie(cookie_name='{self.cookie_name}', \"\\\n",
    "                        \"cookie_recipe_url='{self.cookie_recipe_url}', \"\\\n",
    "                        \"cookie_sku='{self.cookie_sku}', \"\\\n",
    "                        \"quantity={self.quantity},\"\\\n",
    "                        \"unit_cost={self.unit_cost})\".format(self=self)\n",
    "\n",
    "\n",
    "Base.metadata.create_all(engine)"
   ]
  },
  {
   "cell_type": "code",
   "execution_count": 7,
   "metadata": {},
   "outputs": [],
   "source": [
    "session = Session()\n",
    "cc_cookie = Cookie(cookie_name='chocolate chip',\n",
    "                   cookie_recipe_url='http://some.aweso.me/cookie/recipe.html',\n",
    "                   cookie_sku='CC01',\n",
    "                   quantity=12,\n",
    "                   unit_cost=0.50)\n",
    "flour = Ingredient(name='Flour')\n",
    "sugar = Ingredient(name='Sugar')\n",
    "egg = Ingredient(name='Egg')\n",
    "cc = Ingredient(name='Chocolate Chips')\n",
    "cc_cookie.ingredients.extend([flour, sugar, egg, cc])\n",
    "session.add(cc_cookie)\n",
    "session.flush()"
   ]
  },
  {
   "cell_type": "code",
   "execution_count": 9,
   "metadata": {},
   "outputs": [
    {
     "data": {
      "text/plain": [
       "['Flour', 'Sugar', 'Egg', 'Chocolate Chips']"
      ]
     },
     "execution_count": 9,
     "metadata": {},
     "output_type": "execute_result"
    }
   ],
   "source": [
    "[ingredient.name for ingredient in cc_cookie.ingredients]"
   ]
  },
  {
   "cell_type": "code",
   "execution_count": null,
   "metadata": {},
   "outputs": [],
   "source": []
  }
 ],
 "metadata": {
  "kernelspec": {
   "display_name": "py310",
   "language": "python",
   "name": "py310"
  },
  "language_info": {
   "codemirror_mode": {
    "name": "ipython",
    "version": 3
   },
   "file_extension": ".py",
   "mimetype": "text/x-python",
   "name": "python",
   "nbconvert_exporter": "python",
   "pygments_lexer": "ipython3",
   "version": "3.10.3"
  }
 },
 "nbformat": 4,
 "nbformat_minor": 2
}
