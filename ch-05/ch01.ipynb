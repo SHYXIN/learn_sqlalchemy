{
 "cells": [
  {
   "cell_type": "code",
   "execution_count": 39,
   "metadata": {},
   "outputs": [],
   "source": [
    "from sqlalchemy import MetaData, create_engine\n",
    "metadata = MetaData()\n",
    "engine = create_engine('sqlite:///Chinook_Sqlite.sqlite')"
   ]
  },
  {
   "cell_type": "code",
   "execution_count": 40,
   "metadata": {},
   "outputs": [],
   "source": [
    "# Example 5-2 Relectioning the Aritist table\n",
    "from sqlalchemy import Table\n",
    "artist = Table('artist', metadata, autoload=True, autoload_with=engine)"
   ]
  },
  {
   "cell_type": "code",
   "execution_count": 41,
   "metadata": {},
   "outputs": [
    {
     "name": "stdout",
     "output_type": "stream",
     "text": [
      "['ArtistId', 'Name']\n"
     ]
    },
    {
     "data": {
      "text/plain": [
       "[(1, 'AC/DC'),\n",
       " (2, 'Accept'),\n",
       " (3, 'Aerosmith'),\n",
       " (4, 'Alanis Morissette'),\n",
       " (5, 'Alice In Chains'),\n",
       " (6, 'Antônio Carlos Jobim'),\n",
       " (7, 'Apocalyptica'),\n",
       " (8, 'Audioslave'),\n",
       " (9, 'BackBeat'),\n",
       " (10, 'Billy Cobham')]"
      ]
     },
     "execution_count": 41,
     "metadata": {},
     "output_type": "execute_result"
    }
   ],
   "source": [
    "# Example 5-3 Using the Artist table\n",
    "print(artist.columns.keys())\n",
    "from sqlalchemy import select\n",
    "s = select([artist]).limit(10)\n",
    "engine.execute(s).fetchall()"
   ]
  },
  {
   "cell_type": "code",
   "execution_count": 42,
   "metadata": {},
   "outputs": [
    {
     "data": {
      "text/plain": [
       "set()"
      ]
     },
     "execution_count": 42,
     "metadata": {},
     "output_type": "execute_result"
    }
   ],
   "source": [
    "artist.foreign_keys"
   ]
  },
  {
   "cell_type": "code",
   "execution_count": 43,
   "metadata": {},
   "outputs": [],
   "source": [
    "album = Table('album', metadata, autoload=True, autoload_with=engine)"
   ]
  },
  {
   "cell_type": "code",
   "execution_count": 44,
   "metadata": {},
   "outputs": [
    {
     "name": "stdout",
     "output_type": "stream",
     "text": [
      "dict_keys(['artist', 'album'])\n",
      "Table('album', MetaData(), Column('AlbumId', INTEGER(), table=<album>, primary_key=True, nullable=False), Column('Title', NVARCHAR(length=160), table=<album>, nullable=False), Column('ArtistId', INTEGER(), table=<album>, nullable=False), schema=None)\n"
     ]
    }
   ],
   "source": [
    "# Example 5-4. Viewing the metadata\n",
    "print(metadata.tables.keys())\n",
    "print(repr(metadata.tables['album']))"
   ]
  },
  {
   "cell_type": "code",
   "execution_count": 45,
   "metadata": {},
   "outputs": [
    {
     "data": {
      "text/plain": [
       "['AlbumId', 'Title', 'ArtistId']"
      ]
     },
     "execution_count": 45,
     "metadata": {},
     "output_type": "execute_result"
    }
   ],
   "source": [
    "album.columns.keys()"
   ]
  },
  {
   "cell_type": "code",
   "execution_count": 46,
   "metadata": {},
   "outputs": [
    {
     "data": {
      "text/plain": [
       "set()"
      ]
     },
     "execution_count": 46,
     "metadata": {},
     "output_type": "execute_result"
    }
   ],
   "source": [
    "artist.foreign_keys"
   ]
  },
  {
   "cell_type": "code",
   "execution_count": 47,
   "metadata": {},
   "outputs": [],
   "source": [
    "from sqlalchemy import ForeignKeyConstraint\n",
    "album.append_constraint(\n",
    "    ForeignKeyConstraint(['ArtistId'], ['artist.ArtistId'])\n",
    ")"
   ]
  },
  {
   "cell_type": "code",
   "execution_count": 48,
   "metadata": {},
   "outputs": [
    {
     "data": {
      "text/plain": [
       "Table('album', MetaData(), Column('AlbumId', INTEGER(), table=<album>, primary_key=True, nullable=False), Column('Title', NVARCHAR(length=160), table=<album>, nullable=False), Column('ArtistId', INTEGER(), ForeignKey('artist.ArtistId'), table=<album>, nullable=False), schema=None)"
      ]
     },
     "execution_count": 48,
     "metadata": {},
     "output_type": "execute_result"
    }
   ],
   "source": [
    "metadata.tables['album']"
   ]
  },
  {
   "cell_type": "code",
   "execution_count": 49,
   "metadata": {},
   "outputs": [
    {
     "data": {
      "text/plain": [
       "'artist JOIN album ON artist.\"ArtistId\" = album.\"ArtistId\"'"
      ]
     },
     "execution_count": 49,
     "metadata": {},
     "output_type": "execute_result"
    }
   ],
   "source": [
    "str(artist.join(album))"
   ]
  },
  {
   "cell_type": "code",
   "execution_count": 50,
   "metadata": {},
   "outputs": [],
   "source": [
    "metadata.reflect(bind=engine)"
   ]
  },
  {
   "cell_type": "code",
   "execution_count": 51,
   "metadata": {},
   "outputs": [
    {
     "data": {
      "text/plain": [
       "dict_keys(['artist', 'album', 'Album', 'Artist', 'Customer', 'Employee', 'Genre', 'Invoice', 'InvoiceLine', 'Track', 'MediaType', 'Playlist', 'PlaylistTrack'])"
      ]
     },
     "execution_count": 51,
     "metadata": {},
     "output_type": "execute_result"
    }
   ],
   "source": [
    "metadata.tables.keys()"
   ]
  },
  {
   "cell_type": "code",
   "execution_count": 55,
   "metadata": {},
   "outputs": [
    {
     "data": {
      "text/plain": [
       "[(1, 'Music'),\n",
       " (2, 'Movies'),\n",
       " (3, 'TV Shows'),\n",
       " (4, 'Audiobooks'),\n",
       " (5, '90’s Music'),\n",
       " (6, 'Audiobooks'),\n",
       " (7, 'Movies'),\n",
       " (8, 'Music'),\n",
       " (9, 'Music Videos'),\n",
       " (10, 'TV Shows')]"
      ]
     },
     "execution_count": 55,
     "metadata": {},
     "output_type": "execute_result"
    }
   ],
   "source": [
    "# Example 5-5. Using a reflected table in query\n",
    "playlist = metadata.tables['Playlist']\n",
    "\n",
    "from sqlalchemy import select\n",
    "s = select([playlist]).limit(10)\n",
    "engine.execute(s).fetchall()"
   ]
  }
 ],
 "metadata": {
  "kernelspec": {
   "display_name": "py310",
   "language": "python",
   "name": "py310"
  },
  "language_info": {
   "codemirror_mode": {
    "name": "ipython",
    "version": 3
   },
   "file_extension": ".py",
   "mimetype": "text/x-python",
   "name": "python",
   "nbconvert_exporter": "python",
   "pygments_lexer": "ipython3",
   "version": "3.10.3"
  }
 },
 "nbformat": 4,
 "nbformat_minor": 2
}
