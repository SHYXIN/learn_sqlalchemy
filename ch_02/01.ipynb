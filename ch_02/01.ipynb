{
 "cells": [
  {
   "cell_type": "code",
   "execution_count": 49,
   "metadata": {},
   "outputs": [],
   "source": [
    "from datetime import datetime\n",
    "\n",
    "from sqlalchemy import (MetaData, Table, Column, Integer, Numeric, String,\n",
    "                        DateTime, ForeignKey, Boolean, create_engine)\n",
    "metadata = MetaData()\n",
    "\n",
    "cookies = Table('cookies', metadata,\n",
    "    Column('cookie_id', Integer(), primary_key=True),\n",
    "    Column('cookie_name', String(50), index=True),\n",
    "    Column('cookie_recipe_url', String(255)),\n",
    "    Column('cookie_sku', String(55)),\n",
    "    Column('quantity', Integer()),\n",
    "    Column('unit_cost', Numeric(12, 2))\n",
    ")\n",
    "\n",
    "users = Table('users', metadata,\n",
    "    Column('user_id', Integer(), primary_key=True),\n",
    "    Column('username', String(15), nullable=False, unique=True),\n",
    "    Column('email_address', String(255), nullable=False),\n",
    "    Column('phone', String(20), nullable=False),\n",
    "    Column('password', String(25), nullable=False),\n",
    "    Column('created_on', DateTime(), default=datetime.now),\n",
    "    Column('updated_on', DateTime(), default=datetime.now, onupdate=datetime.now)\n",
    ")\n",
    "\n",
    "orders = Table('orders', metadata,\n",
    "    Column('order_id', Integer(), primary_key=True),\n",
    "    Column('user_id', ForeignKey('users.user_id')),\n",
    "    # Column('shipped', Boolean(), default=False)\n",
    ")\n",
    "\n",
    "line_items = Table('line_items', metadata,\n",
    "    Column('line_items_id', Integer(), primary_key=True),\n",
    "    Column('order_id', ForeignKey('orders.order_id')),\n",
    "    Column('cookie_id', ForeignKey('cookies.cookie_id')),\n",
    "    Column('quantity', Integer()),\n",
    "    Column('extended_cost', Numeric(12, 2))\n",
    ")\n",
    "\n",
    "engine = create_engine('sqlite:///:memory:')\n",
    "metadata.create_all(engine)\n",
    "\n",
    "connection = engine.connect()"
   ]
  },
  {
   "cell_type": "code",
   "execution_count": 50,
   "metadata": {},
   "outputs": [],
   "source": [
    "# from get_engine import engine, cookies\n",
    "\n",
    "# # 导入engine\n",
    "# connection = engine.connect()\n",
    "# print(connection)\n"
   ]
  },
  {
   "cell_type": "code",
   "execution_count": 51,
   "metadata": {},
   "outputs": [
    {
     "name": "stdout",
     "output_type": "stream",
     "text": [
      "INSERT INTO cookies (cookie_name, cookie_recipe_url, cookie_sku, quantity, unit_cost) VALUES (:cookie_name, :cookie_recipe_url, :cookie_sku, :quantity, :unit_cost)\n",
      "{'cookie_name': 'chocolate chip', 'cookie_recipe_url': 'http://some.aweso.me/cookie/recipe.html', 'cookie_sku': 'CC01', 'quantity': '12', 'unit_cost': '0.05'}\n",
      "(1,)\n",
      "INSERT INTO cookies (cookie_name, cookie_recipe_url, cookie_sku, quantity, unit_cost) VALUES (:cookie_name, :cookie_recipe_url, :cookie_sku, :quantity, :unit_cost)\n",
      "(2,)\n",
      "Query_data\n",
      "SELECT cookies.cookie_id, cookies.cookie_name, cookies.cookie_recipe_url, cookies.cookie_sku, cookies.quantity, cookies.unit_cost \n",
      "FROM cookies\n",
      "[(1, 'chocolate chip', 'http://some.aweso.me/cookie/recipe.html', 'CC01', 12, Decimal('0.05')), (2, 'dark chocolate chip', 'http://some.aweso.me/cookie/recipe_dark.html', 'CC02', 1, Decimal('0.75')), (3, 'penaut butter', 'http://some.aweso.me/cookie/peanut.html', 'PB01', 24, Decimal('0.25')), (4, 'oatmeal raisin', 'http://some.aweso.me/cookie/peanut.html', '100', 100, Decimal('1.00'))]\n",
      "1\n",
      "chocolate chip\n",
      "ImmutableColumnCollection(cookies.cookie_id, cookies.cookie_name, cookies.cookie_recipe_url, cookies.cookie_sku, cookies.quantity, cookies.unit_cost)\n",
      "chocolate chip\n",
      "chocolate chip\n",
      "dark chocolate chip\n",
      "penaut butter\n",
      "oatmeal raisin\n",
      "RMKeyView(['cookie_name', 'quantity'])\n",
      "('chocolate chip', 12)\n",
      "1 -  dark chocolate chip\n",
      "12 -  chocolate chip\n",
      "24 -  penaut butter\n",
      "100 -  oatmeal raisin\n",
      "100 -  oatmeal raisin\n",
      "24 -  penaut butter\n",
      "12 -  chocolate chip\n",
      "1 -  dark chocolate chip\n",
      "['dark chocolate chip', 'chocolate chip']\n",
      "137\n",
      "(4,)\n",
      "RMKeyView(['count_1'])\n",
      "4\n",
      "RMKeyView(['inventory_count'])\n",
      "4\n",
      "SELECT cookies.cookie_id, cookies.cookie_name, cookies.cookie_recipe_url, cookies.cookie_sku, cookies.quantity, cookies.unit_cost \n",
      "FROM cookies \n",
      "WHERE cookies.cookie_name = :cookie_name_1\n",
      "[('cookie_id', 1), ('cookie_name', 'chocolate chip'), ('cookie_recipe_url', 'http://some.aweso.me/cookie/recipe.html'), ('cookie_sku', 'CC01'), ('quantity', 12), ('unit_cost', Decimal('0.05'))]\n",
      "SELECT cookies.cookie_id, cookies.cookie_name, cookies.cookie_recipe_url, cookies.cookie_sku, cookies.quantity, cookies.unit_cost \n",
      "FROM cookies \n",
      "WHERE cookies.cookie_name LIKE :cookie_name_1\n",
      "chocolate chip\n",
      "dark chocolate chip\n",
      "('chocolate chip', 'SKU-CC01')\n",
      "('dark chocolate chip', 'SKU-CC02')\n",
      "('penaut butter', 'SKU-PB01')\n",
      "('oatmeal raisin', 'SKU-100')\n"
     ]
    },
    {
     "name": "stderr",
     "output_type": "stream",
     "text": [
      "C:\\Users\\WX847\\AppData\\Local\\Temp\\ipykernel_25540\\2424340655.py:73: SAWarning: Dialect sqlite+pysqlite does *not* support Decimal objects natively, and SQLAlchemy must convert from floating point - rounding errors and other issues may occur. Please consider storing Decimal numbers as strings or integers on this platform for lossless storage.\n",
      "  rp = connection.execute(s)\n",
      "C:\\Users\\WX847\\AppData\\Local\\Temp\\ipykernel_25540\\2424340655.py:139: SADeprecationWarning: The LegacyRow.items() method is deprecated and will be removed in a future release.  Use the Row._mapping attribute, i.e., 'row._mapping.items()'. (deprecated since: 1.4)\n",
      "  print(record.items())\n"
     ]
    }
   ],
   "source": [
    "\n",
    "# Example 2-1 Single insert as a method\n",
    "ins = cookies.insert().values(\n",
    "    cookie_name='chocolate chip',\n",
    "    cookie_recipe_url='http://some.aweso.me/cookie/recipe.html',\n",
    "    cookie_sku='CC01',\n",
    "    quantity=\"12\",\n",
    "    unit_cost=\"0.05\"\n",
    ")\n",
    "# 查看语句\n",
    "print(str(ins))\n",
    "# INSERT INTO cookies (cookie_name, cookie_recipe_url, cookie_sku, quantity, unit_cost)\n",
    "# VALUES (:cookie_name, :cookie_recipe_url, :cookie_sku, :quantity, :unit_cost)\n",
    "\n",
    "# 查看参数\n",
    "print(ins.compile().params)\n",
    "# {'cookie_recipe_url': 'http://some.aweso.me/cookie/recipe.html', 'unit_cost': '0.05',\n",
    "# 'cookie_sku': 'CC01', 'quantity': '12', 'cookie_name': 'chocolate chip'}\n",
    "\n",
    "result = connection.execute(ins)\n",
    "\n",
    "print(result.inserted_primary_key)\n",
    "# [1]\n",
    "\n",
    "from sqlalchemy import insert\n",
    "ins = insert(cookies).values(\n",
    "    cookie_name=\"chocolate chip\",\n",
    "    cookie_recipe_url=\"http://some.aweso.me/cookie/recipe.html\",\n",
    "    cookie_sku=\"CC01\",\n",
    "    quantity=\"12\",\n",
    "    unit_cost=\"0.50\"\n",
    ")\n",
    "print(str(ins))\n",
    "\n",
    "ins = cookies.insert()\n",
    "result = connection.execute(ins, cookie_name='dark chocolate chip',\n",
    "                            cookie_recipe_url='http://some.aweso.me/cookie/recipe_dark.html',\n",
    "                            cookie_sku='CC02',\n",
    "                            quantity='1',\n",
    "                            unit_cost='0.75'\n",
    "                            )\n",
    "print(result.inserted_primary_key)\n",
    "\n",
    "inventory_list = [\n",
    "    {\n",
    "        'cookie_name': 'penaut butter',\n",
    "        'cookie_recipe_url': 'http://some.aweso.me/cookie/peanut.html',\n",
    "        'cookie_sku': 'PB01',\n",
    "        'quantity': '24',\n",
    "        'unit_cost': '0.25'\n",
    "    },\n",
    "    {\n",
    "        'cookie_name':'oatmeal raisin',\n",
    "        'cookie_recipe_url': 'http://some.aweso.me/cookie/peanut.html',\n",
    "        'cookie_sku': '100',\n",
    "        'quantity': '100',\n",
    "        'unit_cost': '1.00'\n",
    "\n",
    "    }\n",
    "]\n",
    "\n",
    "result = connection.execute(ins, inventory_list)\n",
    "\n",
    "\n",
    "# Query data\n",
    "print('Query_data')\n",
    "\n",
    "from sqlalchemy import select\n",
    "\n",
    "s = select([cookies])\n",
    "\n",
    "print(str(s))\n",
    "\n",
    "rp = connection.execute(s)\n",
    "results = rp.fetchall()\n",
    "print(results)\n",
    "first_row = results[0]\n",
    "print(first_row[0])\n",
    "print(first_row.cookie_name)\n",
    "print(cookies.c)\n",
    "print(first_row[cookies.c.cookie_name])\n",
    "\n",
    "rp = connection.execute(s)\n",
    "for record in rp:\n",
    "    print(record.cookie_name)\n",
    "\n",
    "s = select([cookies.c.cookie_name, cookies.c.quantity])\n",
    "rp = connection.execute(s)\n",
    "print(rp.keys())\n",
    "result = rp.first()\n",
    "print(result)\n",
    "\n",
    "# Order\n",
    "s = select([cookies.c.cookie_name, cookies.c.quantity])\n",
    "s = s.order_by(cookies.c.quantity)\n",
    "rp = connection.execute(s)\n",
    "for cookie in rp:\n",
    "    print('{} -  {}'.format(cookie.quantity, cookie.cookie_name))\n",
    "\n",
    "# desc\n",
    "from sqlalchemy import desc, asc\n",
    "s = select([cookies.c.cookie_name, cookies.c.quantity])\n",
    "s = s.order_by(desc(cookies.c.quantity))\n",
    "rp = connection.execute(s)\n",
    "for cookie in rp:\n",
    "    print('{} -  {}'.format(cookie.quantity, cookie.cookie_name))\n",
    "\n",
    "s = select([cookies.c.cookie_name, cookies.c.quantity])\n",
    "s = s.order_by(cookies.c.quantity)\n",
    "s = s.limit(2)\n",
    "rp = connection.execute(s)\n",
    "print([result.cookie_name for result in rp])\n",
    "\n",
    "\n",
    "from sqlalchemy.sql import func\n",
    "s = select([func.sum(cookies.c.quantity)])\n",
    "rp = connection.execute(s)\n",
    "print(rp.scalar())\n",
    "\n",
    "s = select([func.count(cookies.c.cookie_name)])\n",
    "rp = connection.execute(s)\n",
    "record = rp.first()\n",
    "print(record)\n",
    "print(record.keys())\n",
    "print(record.count_1)\n",
    "\n",
    "# Example 2-16. Renaming our count column\n",
    "s = select([func.count(cookies.c.cookie_name).label('inventory_count')])\n",
    "rp = connection.execute(s)\n",
    "record = rp.first()\n",
    "print(record.keys())\n",
    "print(record.inventory_count)\n",
    "\n",
    "\n",
    "# Filter\n",
    "s = select([cookies]).where(cookies.c.cookie_name == 'chocolate chip')\n",
    "print(str(s))\n",
    "rp = connection.execute(s)\n",
    "record = rp.first()\n",
    "print(record.items())\n",
    "\n",
    "# like\n",
    "s = select([cookies]).where(cookies.c.cookie_name.like('%chocolate%'))\n",
    "rp = connection.execute(s)\n",
    "print(str(s))\n",
    "for record in rp.fetchall():\n",
    "    print(record.cookie_name)\n",
    "\n",
    "\n",
    "# Operators\n",
    "s = select([cookies.c.cookie_name, 'SKU-' + cookies.c.cookie_sku])\n",
    "for row in connection.execute(s):\n",
    "    print(row)\n",
    "# ('chocolate chip', 'SKU-CC01')\n",
    "# ('dark chocolate chip', 'SKU-CC02')\n",
    "# ('penaut butter', 'SKU-PB01')\n",
    "# ('oatmeal raisin', 'SKU-100')\n",
    "\n"
   ]
  },
  {
   "cell_type": "code",
   "execution_count": 87,
   "metadata": {},
   "outputs": [
    {
     "name": "stdout",
     "output_type": "stream",
     "text": [
      "SELECT cookies.cookie_id, cookies.cookie_name, cookies.cookie_recipe_url, cookies.cookie_sku, cookies.quantity, cookies.unit_cost \n",
      "FROM cookies\n",
      "<class 'sqlalchemy.engine.cursor.LegacyCursorResult'>\n"
     ]
    }
   ],
   "source": [
    "from sqlalchemy import select\n",
    "\n",
    "s = select([cookies])\n",
    "\n",
    "print(str(s))\n",
    "\n",
    "rp = connection.execute(s)\n",
    "results = rp.fetchall()\n",
    "print(type(rp))"
   ]
  },
  {
   "cell_type": "code",
   "execution_count": 52,
   "metadata": {},
   "outputs": [
    {
     "name": "stdout",
     "output_type": "stream",
     "text": [
      "chocolate chip -  0.60\n",
      "dark chocolate chip -  0.75\n",
      "penaut butter -  6.00\n",
      "oatmeal raisin -  100.00\n"
     ]
    },
    {
     "name": "stderr",
     "output_type": "stream",
     "text": [
      "C:\\Users\\WX847\\AppData\\Local\\Temp\\ipykernel_25540\\3826020240.py:4: SAWarning: Dialect sqlite+pysqlite does *not* support Decimal objects natively, and SQLAlchemy must convert from floating point - rounding errors and other issues may occur. Please consider storing Decimal numbers as strings or integers on this platform for lossless storage.\n",
      "  for row in connection.execute(s):\n"
     ]
    }
   ],
   "source": [
    "from sqlalchemy import cast, Numeric\n",
    "s = select([cookies.c.cookie_name,\n",
    "            cast((cookies.c.quantity * cookies.c.unit_cost), Numeric(12, 2)).label('inv_cost')])\n",
    "for row in connection.execute(s):\n",
    "    print(\"{} -  {}\".format(row.cookie_name, row.inv_cost))\n"
   ]
  },
  {
   "cell_type": "code",
   "execution_count": 53,
   "metadata": {},
   "outputs": [
    {
     "name": "stdout",
     "output_type": "stream",
     "text": [
      "penaut butter\n"
     ]
    }
   ],
   "source": [
    "# Example 2-21\n",
    "from sqlalchemy import and_, or_, not_\n",
    "s = select([cookies]).where(\n",
    "    and_(\n",
    "        cookies.c.quantity > 23,\n",
    "        cookies.c.unit_cost < 0.40\n",
    "    )\n",
    ")\n",
    "\n",
    "for row in connection.execute(s):\n",
    "    print(row.cookie_name)"
   ]
  },
  {
   "cell_type": "code",
   "execution_count": 54,
   "metadata": {},
   "outputs": [
    {
     "name": "stdout",
     "output_type": "stream",
     "text": [
      "chocolate chip\n",
      "dark chocolate chip\n",
      "penaut butter\n"
     ]
    }
   ],
   "source": [
    "from sqlalchemy import and_, or_, not_\n",
    "s = select([cookies]).where(\n",
    "    or_(\n",
    "        cookies.c.quantity.between(10, 50),\n",
    "        cookies.c.cookie_name.contains('chip')\n",
    "    )\n",
    ")\n",
    "\n",
    "for row in connection.execute(s):\n",
    "    print(row.cookie_name)\n",
    "# chocolate chip\n",
    "# dark chocolate chip\n",
    "# penaut butter"
   ]
  },
  {
   "cell_type": "code",
   "execution_count": 55,
   "metadata": {},
   "outputs": [
    {
     "name": "stdout",
     "output_type": "stream",
     "text": [
      "(1, 'chocolate chip', 'http://some.aweso.me/cookie/recipe.html', 'CC01', 12, Decimal('0.05'))\n",
      "(2, 'dark chocolate chip', 'http://some.aweso.me/cookie/recipe_dark.html', 'CC02', 1, Decimal('0.75'))\n",
      "(3, 'penaut butter', 'http://some.aweso.me/cookie/peanut.html', 'PB01', 24, Decimal('0.25'))\n",
      "(4, 'oatmeal raisin', 'http://some.aweso.me/cookie/peanut.html', '100', 100, Decimal('1.00'))\n"
     ]
    }
   ],
   "source": [
    "s = select([cookies])\n",
    "rp = connection.execute(s)\n",
    "for row in rp.fetchall():\n",
    "    print(row)"
   ]
  },
  {
   "cell_type": "code",
   "execution_count": 56,
   "metadata": {},
   "outputs": [
    {
     "name": "stdout",
     "output_type": "stream",
     "text": [
      "UPDATE cookies SET quantity=(cookies.quantity + :quantity_1) WHERE cookies.cookie_name = :cookie_name_1\n",
      "1\n",
      "           cookie_id: 1\n",
      "         cookie_name: chocolate chip\n",
      "   cookie_recipe_url: http://some.aweso.me/cookie/recipe.html\n",
      "          cookie_sku: CC01\n",
      "            quantity: 132\n",
      "           unit_cost: 0.05\n"
     ]
    }
   ],
   "source": [
    "# Updating data\n",
    "from sqlalchemy import update\n",
    "u = update(cookies).where(cookies.c.cookie_name == \"chocolate chip\")\n",
    "u = u.values(quantity=(cookies.c.quantity + 120))\n",
    "print(str(u))\n",
    "result = connection.execute(u)\n",
    "print(result.rowcount)\n",
    "s = select([cookies]).where(cookies.c.cookie_name==\"chocolate chip\")\n",
    "result = connection.execute(s).first()\n",
    "for key in result.keys():\n",
    "    print('{:>20}: {}'.format(key, result[key]))"
   ]
  },
  {
   "cell_type": "code",
   "execution_count": 57,
   "metadata": {},
   "outputs": [
    {
     "name": "stdout",
     "output_type": "stream",
     "text": [
      "1\n",
      "0\n"
     ]
    }
   ],
   "source": [
    "# Deleting Data\n",
    "from sqlalchemy import delete\n",
    "u = delete(cookies).where(cookies.c.cookie_name == \"dark chocolate chip\")\n",
    "result = connection.execute(u)\n",
    "print(result.rowcount)\n",
    "\n",
    "s = select([cookies]).where(cookies.c.cookie_name == \"dark chocolate chip\")\n",
    "result = connection.execute(s).fetchall()\n",
    "print(len(result))"
   ]
  },
  {
   "cell_type": "code",
   "execution_count": 58,
   "metadata": {},
   "outputs": [],
   "source": [
    "customer_list = [\n",
    "    {\n",
    "        'username': 'cookiemon',\n",
    "        'email_address': 'mon@cookie.com',\n",
    "        'phone': '111-111-1111',\n",
    "        'password': 'password',\n",
    "    },\n",
    "    {\n",
    "        'username': 'cakeeater',\n",
    "        'email_address': 'cakeeater@cake.com',\n",
    "        'phone': '222-222-2222',\n",
    "        'password': 'password'\n",
    "    },\n",
    "    {\n",
    "        'username': 'pieguy',\n",
    "        'email_address': 'guy@pie.com',\n",
    "        'phone': '333-333-3333',\n",
    "        'password': 'password'\n",
    "    }\n",
    "]\n",
    "\n",
    "ins = users.insert()\n",
    "result = connection.execute(ins, customer_list)"
   ]
  },
  {
   "cell_type": "code",
   "execution_count": 59,
   "metadata": {},
   "outputs": [],
   "source": [
    "ins = insert(orders).values(user_id=1, order_id=1)\n",
    "result = connection.execute(ins)\n",
    "\n",
    "ins = insert(line_items)\n",
    "order_items = [\n",
    "    {\n",
    "        'order_id': 1,\n",
    "        'cookie_id': 1,\n",
    "        'quantity': 2,\n",
    "        'extended_cost': 1.00\n",
    "    },\n",
    "    {\n",
    "        'order_id': 1,\n",
    "        'cookie_id': 3,\n",
    "        'quantity': 12,\n",
    "        'extended_cost': 3.00\n",
    "    }\n",
    "]\n",
    "result = connection.execute(ins, order_items)\n",
    "ins = insert(orders).values(user_id=2, order_id=2)\n",
    "result = connection.execute(ins)\n",
    "ins = insert(line_items)\n",
    "order_items = [\n",
    "    {\n",
    "        'order_id':2,\n",
    "        'cookie_id': 1,\n",
    "        'quantity': 24,\n",
    "        'extended_cost': 12.00\n",
    "    },\n",
    "    {\n",
    "        'order_id': 2,\n",
    "        'cookie_id': 4,\n",
    "        'quantity': 6,\n",
    "        'extended_cost': 6.00\n",
    "    }\n",
    "]\n",
    "result = connection.execute(ins, order_items)\n"
   ]
  },
  {
   "cell_type": "code",
   "execution_count": 60,
   "metadata": {},
   "outputs": [
    {
     "name": "stdout",
     "output_type": "stream",
     "text": [
      "(1, 'cookiemon', '111-111-1111', 'chocolate chip', 2, Decimal('1.00'))\n",
      "(1, 'cookiemon', '111-111-1111', 'penaut butter', 12, Decimal('3.00'))\n"
     ]
    },
    {
     "name": "stderr",
     "output_type": "stream",
     "text": [
      "C:\\Users\\WX847\\AppData\\Local\\Temp\\ipykernel_25540\\3713429094.py:9: SAWarning: Dialect sqlite+pysqlite does *not* support Decimal objects natively, and SQLAlchemy must convert from floating point - rounding errors and other issues may occur. Please consider storing Decimal numbers as strings or integers on this platform for lossless storage.\n",
      "  result = connection.execute(cookiemon_orders).fetchall()\n"
     ]
    }
   ],
   "source": [
    "# Joins\n",
    "# Example 2-25 Using join to select from multiple tables\n",
    "columns = [orders.c.order_id, users.c.username, users.c.phone,\n",
    "           cookies.c.cookie_name, line_items.c.quantity,\n",
    "           line_items.c.extended_cost]\n",
    "cookiemon_orders = select(columns)\n",
    "cookiemon_orders = cookiemon_orders.select_from(orders.join(users).join(line_items).join(cookies)).where(users.c.username == 'cookiemon')\n",
    "\n",
    "result = connection.execute(cookiemon_orders).fetchall()\n",
    "for row in result:\n",
    "    print(row)\n",
    "\n",
    "# (1, 'cookiemon', '111-111-1111', 'chocolate chip', 2, Decimal('1.00'))\n",
    "# (1, 'cookiemon', '111-111-1111', 'penaut butter', 12, Decimal('3.00'))"
   ]
  },
  {
   "cell_type": "code",
   "execution_count": 61,
   "metadata": {},
   "outputs": [
    {
     "name": "stdout",
     "output_type": "stream",
     "text": [
      "SELECT orders.order_id, users.username, users.phone, cookies.cookie_name, line_items.quantity, line_items.extended_cost \n",
      "FROM orders JOIN users ON users.user_id = orders.user_id JOIN line_items ON orders.order_id = line_items.order_id JOIN cookies ON cookies.cookie_id = line_items.cookie_id \n",
      "WHERE users.username = :username_1\n"
     ]
    }
   ],
   "source": [
    "print(str(cookiemon_orders))"
   ]
  },
  {
   "cell_type": "code",
   "execution_count": 62,
   "metadata": {},
   "outputs": [
    {
     "name": "stdout",
     "output_type": "stream",
     "text": [
      "('cakeeater', 1)\n",
      "('cookiemon', 1)\n",
      "('pieguy', 0)\n"
     ]
    }
   ],
   "source": [
    "# Example 2-26 Using outerjoin to select from multiple tables\n",
    "columns = [users.c.username, func.count(orders.c.order_id)]\n",
    "all_orders = select(columns)\n",
    "all_orders = all_orders.select_from(users.outerjoin(orders))\n",
    "all_orders = all_orders.group_by(users.c.username)\n",
    "result = connection.execute(all_orders).fetchall()\n",
    "for row in result:\n",
    "    print(row)\n",
    "# ('cakeeater', 1)\n",
    "# ('cookiemon', 1)\n",
    "# ('pieguy', 0)"
   ]
  },
  {
   "cell_type": "code",
   "execution_count": 63,
   "metadata": {},
   "outputs": [
    {
     "name": "stdout",
     "output_type": "stream",
     "text": [
      "SELECT users.username, count(orders.order_id) AS count_1 \n",
      "FROM users LEFT OUTER JOIN orders ON users.user_id = orders.user_id GROUP BY users.username\n"
     ]
    }
   ],
   "source": [
    "print(str(all_orders))"
   ]
  },
  {
   "cell_type": "code",
   "execution_count": 64,
   "metadata": {},
   "outputs": [],
   "source": [
    "# from sqlalchemy import create_engine, Table, Column, Integer, String, MetaData, select, ForeignKey, alias\n",
    "\n",
    "# # 创建数据库引擎和元数据对象\n",
    "# engine = create_engine('sqlite:///:memory:')\n",
    "# metadata = MetaData()\n",
    "\n",
    "# # 创建 employee 表\n",
    "# employee_table = Table(\n",
    "#     'employee', metadata,\n",
    "#     Column('id', Integer, primary_key=True),\n",
    "#     Column('manager_id', None, ForeignKey('employee.id')),\n",
    "#     Column('name', String(255))\n",
    "# )\n",
    "# # 创建表\n",
    "# metadata.create_all(engine)\n",
    "\n",
    "# # 插入一些示例数据\n",
    "# with engine.connect() as conn:\n",
    "#     conn.execute(employee_table.insert(), [\n",
    "#         {'name': 'Fred', 'manager_id': None},\n",
    "#         {'name': 'Bob', 'manager_id': 1},\n",
    "#         {'name': 'Charlie', 'manager_id': 2},\n",
    "#         {'name': 'David', 'manager_id': 1},\n",
    "#     ])\n",
    "\n",
    "# # 使用别名查询由名为 'Fred' 的员工管理的所有员工\n",
    "# with engine.connect() as conn:\n",
    "#     # 创建别名\n",
    "#     employee_alias = alias(employee_table)\n",
    "\n",
    "#     # 创建查询\n",
    "#     stmt = (\n",
    "#         select([employee_table.c.name])\n",
    "#         .select_from(employee_table.join(employee_alias, employee_table.c.manager_id == employee_alias.c.id))\n",
    "#         .where(employee_alias.c.name == 'Fred')\n",
    "#     )\n",
    "\n",
    "#     # 执行查询\n",
    "#     result = conn.execute(stmt)\n",
    "\n",
    "#     # 打印结果\n",
    "#     for row in result:\n",
    "#         print(f\"Employee managed by Fred: {row.name}\")\n",
    "# # Employee managed by Fred: Bob\n",
    "# # Employee managed by Fred: David\n"
   ]
  },
  {
   "cell_type": "code",
   "execution_count": 70,
   "metadata": {},
   "outputs": [
    {
     "name": "stdout",
     "output_type": "stream",
     "text": [
      "('cakeeater', 1)\n",
      "('cookiemon', 1)\n",
      "('pieguy', 0)\n",
      "SELECT users.username, count(orders.order_id) AS count_1 \n",
      "FROM users LEFT OUTER JOIN orders ON users.user_id = orders.user_id GROUP BY users.username\n"
     ]
    }
   ],
   "source": [
    "# Grouping\n",
    "columns = [users.c.username, func.count(orders.c.order_id)]\n",
    "all_orders = select(columns)\n",
    "all_orders = all_orders.select_from(users.outerjoin(orders))\n",
    "all_orders = all_orders.group_by(users.c.username)\n",
    "result = connection.execute(all_orders).fetchall()\n",
    "for row in result:\n",
    "    print(row)\n",
    "print(all_orders)"
   ]
  },
  {
   "cell_type": "code",
   "execution_count": 73,
   "metadata": {},
   "outputs": [
    {
     "data": {
      "text/plain": [
       "[(2, 'cakeeater', '222-222-2222', 'chocolate chip', 24, Decimal('12.00')),\n",
       " (2, 'cakeeater', '222-222-2222', 'oatmeal raisin', 6, Decimal('6.00'))]"
      ]
     },
     "execution_count": 73,
     "metadata": {},
     "output_type": "execute_result"
    }
   ],
   "source": [
    "# Chaining\n",
    "# Example 2-28\n",
    "def get_orders_by_customer(cust_name):\n",
    "    columns = [orders.c.order_id, users.c.username, users.c.phone,\n",
    "               cookies.c.cookie_name, line_items.c.quantity,\n",
    "               line_items.c.extended_cost]\n",
    "    cust_orders = select(columns)\n",
    "    cust_orders = cust_orders.select_from(\n",
    "        users.join(orders).join(line_items).join(cookies)\n",
    "    )\n",
    "    cust_orders = cust_orders.where(users.c.username == cust_name)\n",
    "    result = connection.execute(cust_orders).fetchall()\n",
    "    return result\n",
    "\n",
    "get_orders_by_customer('cakeeater')\n",
    "# [(2, 'cakeeater', '222-222-2222', 'chocolate chip', 24, Decimal('12.00')),\n",
    "#  (2, 'cakeeater', '222-222-2222', 'oatmeal raisin', 6, Decimal('6.00'))]"
   ]
  },
  {
   "cell_type": "code",
   "execution_count": 77,
   "metadata": {},
   "outputs": [
    {
     "name": "stdout",
     "output_type": "stream",
     "text": [
      "[(2, 'cakeeater', '222-222-2222')]\n",
      "[(2, 'cakeeater', '222-222-2222', 'chocolate chip', 24, Decimal('12.00')), (2, 'cakeeater', '222-222-2222', 'oatmeal raisin', 6, Decimal('6.00'))]\n"
     ]
    }
   ],
   "source": [
    "# example 2-29 Conditional chaining\n",
    "def get_orders_by_customer(cust_name, shipped=None, details=False):\n",
    "    columns = [orders.c.order_id, users.c.username, users.c.phone]\n",
    "    joins = users.join(orders)\n",
    "    if details:\n",
    "        columns.extend([cookies.c.cookie_name, line_items.c.quantity, line_items.c.extended_cost])\n",
    "        joins = joins.join(line_items).join(cookies)\n",
    "    cust_orders = select(columns)\n",
    "    cust_orders = cust_orders.select_from(joins).where(users.c.username == cust_name)\n",
    "    if shipped is not None:\n",
    "        cust_orders = cust_orders.where(orders.c.shipped == shipped)\n",
    "    result = connection.execute(cust_orders).fetchall()\n",
    "    return result\n",
    "print(get_orders_by_customer('cakeeater'))\n",
    "print(get_orders_by_customer('cakeeater', details=True))\n",
    "# print(get_orders_by_customer('cakeeater', shipped=True))\n",
    "# get_orders_by_customer('cakeeater', shipped=False, details=True)\n"
   ]
  },
  {
   "cell_type": "code",
   "execution_count": 78,
   "metadata": {},
   "outputs": [
    {
     "name": "stdout",
     "output_type": "stream",
     "text": [
      "<class 'sqlalchemy.engine.cursor.LegacyCursorResult'>\n",
      "[(1, 1), (2, 2)]\n"
     ]
    }
   ],
   "source": [
    "# Raw query\n",
    "rp = connection.execute(\"select * from orders\")\n",
    "print(type(rp))\n",
    "result = rp.fetchall()\n",
    "print(result)\n"
   ]
  },
  {
   "cell_type": "code",
   "execution_count": 88,
   "metadata": {},
   "outputs": [
    {
     "name": "stdout",
     "output_type": "stream",
     "text": [
      "<class 'sqlalchemy.sql.selectable.Select'>\n",
      "<class 'sqlalchemy.engine.cursor.LegacyCursorResult'>\n",
      "[(1, 'cookiemon', 'mon@cookie.com', '111-111-1111', 'password', datetime.datetime(2023, 12, 28, 16, 59, 6, 995015), datetime.datetime(2023, 12, 28, 16, 59, 6, 995015))]\n"
     ]
    }
   ],
   "source": [
    "from sqlalchemy import text\n",
    "stmt = select([users]).where(text(\"username='cookiemon'\"))\n",
    "print(type(stmt))\n",
    "rp = connection.execute(stmt)\n",
    "print(type(rp))\n",
    "print(rp.fetchall())\n",
    "for row in rp.fetchall():\n",
    "    print(row)\n"
   ]
  },
  {
   "cell_type": "code",
   "execution_count": null,
   "metadata": {},
   "outputs": [],
   "source": []
  }
 ],
 "metadata": {
  "kernelspec": {
   "display_name": "py310",
   "language": "python",
   "name": "py310"
  },
  "language_info": {
   "codemirror_mode": {
    "name": "ipython",
    "version": 3
   },
   "file_extension": ".py",
   "mimetype": "text/x-python",
   "name": "python",
   "nbconvert_exporter": "python",
   "pygments_lexer": "ipython3",
   "version": "3.10.3"
  }
 },
 "nbformat": 4,
 "nbformat_minor": 2
}
