{
 "cells": [
  {
   "cell_type": "code",
   "execution_count": null,
   "metadata": {},
   "outputs": [],
   "source": [
    "from sqlalchemy import create_engine, Table, Column, Integer, String, MetaData, select, ForeignKey, alias\n",
    "\n",
    "# 创建数据库引擎和元数据对象\n",
    "engine = create_engine('sqlite:///:memory:')\n",
    "metadata = MetaData()\n",
    "\n",
    "# 创建 employee 表\n",
    "employee_table = Table(\n",
    "    'employee', metadata,\n",
    "    Column('id', Integer, primary_key=True),\n",
    "    Column('manager_id', None, ForeignKey('employee.id')),\n",
    "    Column('name', String(255))\n",
    ")\n",
    "# 创建表\n",
    "metadata.create_all(engine)\n",
    "\n",
    "# 插入一些示例数据\n",
    "with engine.connect() as conn:\n",
    "    conn.execute(employee_table.insert(), [\n",
    "        {'name': 'Fred', 'manager_id': None},\n",
    "        {'name': 'Bob', 'manager_id': 1},\n",
    "        {'name': 'Charlie', 'manager_id': 2},\n",
    "        {'name': 'David', 'manager_id': 1},\n",
    "    ])\n",
    "\n",
    "# 使用别名查询由名为 'Fred' 的员工管理的所有员工\n",
    "with engine.connect() as conn:\n",
    "    # 创建别名\n",
    "    employee_alias = alias(employee_table)\n",
    "\n",
    "    # 创建查询\n",
    "    stmt = (\n",
    "        select([employee_table.c.name])\n",
    "        .select_from(employee_table.join(employee_alias, employee_table.c.manager_id == employee_alias.c.id))\n",
    "        .where(employee_alias.c.name == 'Fred')\n",
    "    )\n",
    "\n",
    "    # 执行查询\n",
    "    result = conn.execute(stmt)\n",
    "\n",
    "    # 打印结果\n",
    "    for row in result:\n",
    "        print(f\"Employee managed by Fred: {row.name}\")\n",
    "# Employee managed by Fred: Bob\n",
    "# Employee managed by Fred: David\n"
   ]
  }
 ],
 "metadata": {
  "language_info": {
   "name": "python"
  }
 },
 "nbformat": 4,
 "nbformat_minor": 2
}
